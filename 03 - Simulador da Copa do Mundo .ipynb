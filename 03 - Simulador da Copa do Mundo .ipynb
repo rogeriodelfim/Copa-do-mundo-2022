{
 "cells": [
  {
   "cell_type": "markdown",
   "id": "6ceaeb9c",
   "metadata": {},
   "source": [
    "# <center> Simulador da Copa do Mundo  \n",
    "\n",
    "> Isenção de responsabilidade 1: Por favor, não use isso para fins de apostas. Este é apenas um experimento matemático feito por um cientista de dados. Não sou um apostador e não quero dar sugestões sobre suas apostas. <p>\n",
    "> Isenção de responsabilidade 2: Este projeto não está relacionado de forma alguma a todos os eventos do Catar que estão acontecendo atualmente e não é patrocinador ou anti-patrocinador da Copa do Mundo da FIFA 2022 no Catar. <p> <br>\n",
    "    \n",
    "Então deixe-me dizer, em poucas palavras, o que você verá aqui:\n",
    "\n",
    "1. Construiremos algum tipo de função de probabilidade para os resultados das partidas;\n",
    "2. Faremos uma simulação com base nas probabilidades que extraímos~;\n",
    "3. Executaremos a simulação várias vezes e extrairemos algumas estatísticas.    "
   ]
  },
  {
   "cell_type": "markdown",
   "id": "f186eb03",
   "metadata": {},
   "source": [
    "# 1. Primeiros Passos\n",
    "Vamos importar algumas bibliotecas primeiro:"
   ]
  },
  {
   "cell_type": "code",
   "execution_count": 369,
   "id": "55929038",
   "metadata": {
    "ExecuteTime": {
     "end_time": "2022-12-05T00:29:04.426716Z",
     "start_time": "2022-12-05T00:29:04.416731Z"
    }
   },
   "outputs": [],
   "source": [
    "import warnings\n",
    "import sklearn\n",
    "import matplotlib"
   ]
  },
  {
   "cell_type": "code",
   "execution_count": 370,
   "id": "bb9a63d8",
   "metadata": {
    "ExecuteTime": {
     "end_time": "2022-12-05T00:29:04.722170Z",
     "start_time": "2022-12-05T00:29:04.711133Z"
    }
   },
   "outputs": [],
   "source": [
    "import numpy             as np\n",
    "import pandas            as pd \n",
    "import matplotlib.pyplot as plt \n",
    "import seaborn           as sns"
   ]
  },
  {
   "cell_type": "code",
   "execution_count": 371,
   "id": "2ba75a25",
   "metadata": {
    "ExecuteTime": {
     "end_time": "2022-12-05T00:29:05.022794Z",
     "start_time": "2022-12-05T00:29:04.958791Z"
    },
    "code_folding": [
     0
    ]
   },
   "outputs": [],
   "source": [
    "def jupyter_setting():\n",
    "    \n",
    "        %matplotlib inline\n",
    "\n",
    "        #os.environ[\"WANDB_SILENT\"] = \"true\" \n",
    "        #plt.style.use('bmh') \n",
    "        #plt.rcParams['figure.figsize'] = [20,15]\n",
    "        #plt.rcParams['font.size']      = 13\n",
    "\n",
    "        #matplotlib_axes_logger.setLevel('ERROR')\n",
    "\n",
    "        pd.options.display.max_columns = None\n",
    "        #pd.set_option('display.expand_frame_repr', False)\n",
    "\n",
    "        warnings.filterwarnings(action='ignore')\n",
    "        warnings.simplefilter('ignore')\n",
    "        warnings.filterwarnings('ignore')\n",
    "        warnings.filterwarnings('ignore', category=DeprecationWarning)\n",
    "        warnings.filterwarnings('ignore', category=FutureWarning)\n",
    "        warnings.filterwarnings('ignore', category=RuntimeWarning)\n",
    "        warnings.filterwarnings('ignore', category=UserWarning)\n",
    "        warnings.filterwarnings(\"ignore\", category=sklearn.exceptions.UndefinedMetricWarning)\n",
    "        warnings.filterwarnings(\"ignore\", category= sklearn.exceptions.UndefinedMetricWarning)\n",
    "        warnings.simplefilter(action=\"ignore\", category=pd.errors.PerformanceWarning)\n",
    "\n",
    "        pd.options.mode.chained_assignment = None \n",
    "        pd.set_option('display.max_rows', 200)\n",
    "        pd.set_option('display.max_columns', 500)\n",
    "        pd.set_option('display.max_colwidth', 200)\n",
    "\n",
    "        icecream = [\"#00008b\", \"#960018\",\"#008b00\", \"#00468b\", \"#8b4500\", \"#582c00\"]\n",
    "        #sns.palplot(sns.color_palette(icecream))\n",
    "\n",
    "        colors = [\"lightcoral\", \"sandybrown\", \"darkorange\", \"mediumseagreen\",\n",
    "              \"lightseagreen\", \"cornflowerblue\", \"mediumpurple\", \"palevioletred\",\n",
    "              \"lightskyblue\", \"sandybrown\", \"yellowgreen\", \"indianred\",\n",
    "              \"lightsteelblue\", \"mediumorchid\", \"deepskyblue\"]\n",
    "\n",
    "        # Colors\n",
    "        dark_red   = \"#b20710\"\n",
    "        black      = \"#221f1f\"\n",
    "        green      = \"#009473\"\n",
    "        myred      = '#CD5C5C'\n",
    "        myblue     = '#6495ED'\n",
    "        mygreen    = '#90EE90'    \n",
    "        color_cols = [myred, myblue,mygreen]\n",
    "        \n",
    "        plt.style.use('ggplot')\n",
    "        plt.rcParams['font.family'] = 'sans-serif' \n",
    "        plt.rcParams['font.serif'] = 'Ubuntu' \n",
    "        plt.rcParams['font.monospace'] = 'Ubuntu Mono' \n",
    "        plt.rcParams['font.size'] = 14 \n",
    "        plt.rcParams['axes.labelsize'] = 12 \n",
    "        plt.rcParams['axes.labelweight'] = 'bold' \n",
    "        plt.rcParams['axes.titlesize'] = 12 \n",
    "        plt.rcParams['xtick.labelsize'] = 12 \n",
    "        plt.rcParams['ytick.labelsize'] = 12 \n",
    "        plt.rcParams['legend.fontsize'] = 12 \n",
    "        plt.rcParams['figure.titlesize'] = 12 \n",
    "        plt.rcParams['image.cmap'] = 'jet' \n",
    "        plt.rcParams['image.interpolation'] = 'none' \n",
    "        plt.rcParams['figure.figsize'] = (12, 10) \n",
    "        plt.rcParams['axes.grid']=True\n",
    "        plt.rcParams['lines.linewidth'] = 2 \n",
    "        plt.rcParams['lines.markersize'] = 8\n",
    "        colors = ['xkcd:pale orange', 'xkcd:sea blue', 'xkcd:pale red', 'xkcd:sage green', \n",
    "                  'xkcd:terra cotta', 'xkcd:dull purple', 'xkcd:teal', 'xkcd: goldenrod', \n",
    "                  'xkcd:cadet blue','xkcd:scarlet']\n",
    "\n",
    "\n",
    "        return icecream, colors, color_cols "
   ]
  },
  {
   "cell_type": "code",
   "execution_count": 372,
   "id": "ba4f2463",
   "metadata": {
    "ExecuteTime": {
     "end_time": "2022-12-05T00:29:05.274884Z",
     "start_time": "2022-12-05T00:29:05.254885Z"
    }
   },
   "outputs": [],
   "source": [
    "icecream, colors, color_cols = jupyter_setting()"
   ]
  },
  {
   "cell_type": "markdown",
   "id": "8c116009",
   "metadata": {},
   "source": [
    "# 2. Importa dados \n",
    "\n",
    "O conjunto de dados que usei é um conjunto de dados das partidas e o número de vezes que uma seleção nacional venceu ou passou da fase de grupos, como veremos.\n"
   ]
  },
  {
   "cell_type": "code",
   "execution_count": 373,
   "id": "53517f61",
   "metadata": {
    "ExecuteTime": {
     "end_time": "2022-12-05T00:29:06.059820Z",
     "start_time": "2022-12-05T00:29:05.983577Z"
    }
   },
   "outputs": [],
   "source": [
    "data_matches  = pd.read_csv('Data/WorldCupMatches.csv')\n",
    "data_winner   = pd.read_csv('Data/WorldCups.csv')\n",
    "data_players  = pd.read_csv('Data/WorldCupPlayers.csv')"
   ]
  },
  {
   "cell_type": "code",
   "execution_count": 374,
   "id": "f25e7df7",
   "metadata": {
    "ExecuteTime": {
     "end_time": "2022-12-05T00:29:06.862844Z",
     "start_time": "2022-12-05T00:29:06.831811Z"
    }
   },
   "outputs": [
    {
     "data": {
      "text/html": [
       "<div>\n",
       "<style scoped>\n",
       "    .dataframe tbody tr th:only-of-type {\n",
       "        vertical-align: middle;\n",
       "    }\n",
       "\n",
       "    .dataframe tbody tr th {\n",
       "        vertical-align: top;\n",
       "    }\n",
       "\n",
       "    .dataframe thead th {\n",
       "        text-align: right;\n",
       "    }\n",
       "</style>\n",
       "<table border=\"1\" class=\"dataframe\">\n",
       "  <thead>\n",
       "    <tr style=\"text-align: right;\">\n",
       "      <th></th>\n",
       "      <th>Year</th>\n",
       "      <th>Datetime</th>\n",
       "      <th>Stage</th>\n",
       "      <th>Stadium</th>\n",
       "      <th>City</th>\n",
       "      <th>Home Team Name</th>\n",
       "      <th>Home Team Goals</th>\n",
       "      <th>Away Team Goals</th>\n",
       "      <th>Away Team Name</th>\n",
       "      <th>Win conditions</th>\n",
       "      <th>Attendance</th>\n",
       "      <th>Half-time Home Goals</th>\n",
       "      <th>Half-time Away Goals</th>\n",
       "      <th>Referee</th>\n",
       "      <th>Assistant 1</th>\n",
       "      <th>Assistant 2</th>\n",
       "      <th>RoundID</th>\n",
       "      <th>MatchID</th>\n",
       "      <th>Home Team Initials</th>\n",
       "      <th>Away Team Initials</th>\n",
       "    </tr>\n",
       "  </thead>\n",
       "  <tbody>\n",
       "    <tr>\n",
       "      <th>0</th>\n",
       "      <td>1930.0</td>\n",
       "      <td>13 Jul 1930 - 15:00</td>\n",
       "      <td>Group 1</td>\n",
       "      <td>Pocitos</td>\n",
       "      <td>Montevideo</td>\n",
       "      <td>France</td>\n",
       "      <td>4.0</td>\n",
       "      <td>1.0</td>\n",
       "      <td>Mexico</td>\n",
       "      <td></td>\n",
       "      <td>4444.0</td>\n",
       "      <td>3.0</td>\n",
       "      <td>0.0</td>\n",
       "      <td>LOMBARDI Domingo (URU)</td>\n",
       "      <td>CRISTOPHE Henry (BEL)</td>\n",
       "      <td>REGO Gilberto (BRA)</td>\n",
       "      <td>201.0</td>\n",
       "      <td>1096.0</td>\n",
       "      <td>FRA</td>\n",
       "      <td>MEX</td>\n",
       "    </tr>\n",
       "    <tr>\n",
       "      <th>1</th>\n",
       "      <td>1930.0</td>\n",
       "      <td>13 Jul 1930 - 15:00</td>\n",
       "      <td>Group 4</td>\n",
       "      <td>Parque Central</td>\n",
       "      <td>Montevideo</td>\n",
       "      <td>USA</td>\n",
       "      <td>3.0</td>\n",
       "      <td>0.0</td>\n",
       "      <td>Belgium</td>\n",
       "      <td></td>\n",
       "      <td>18346.0</td>\n",
       "      <td>2.0</td>\n",
       "      <td>0.0</td>\n",
       "      <td>MACIAS Jose (ARG)</td>\n",
       "      <td>MATEUCCI Francisco (URU)</td>\n",
       "      <td>WARNKEN Alberto (CHI)</td>\n",
       "      <td>201.0</td>\n",
       "      <td>1090.0</td>\n",
       "      <td>USA</td>\n",
       "      <td>BEL</td>\n",
       "    </tr>\n",
       "    <tr>\n",
       "      <th>2</th>\n",
       "      <td>1930.0</td>\n",
       "      <td>14 Jul 1930 - 12:45</td>\n",
       "      <td>Group 2</td>\n",
       "      <td>Parque Central</td>\n",
       "      <td>Montevideo</td>\n",
       "      <td>Yugoslavia</td>\n",
       "      <td>2.0</td>\n",
       "      <td>1.0</td>\n",
       "      <td>Brazil</td>\n",
       "      <td></td>\n",
       "      <td>24059.0</td>\n",
       "      <td>2.0</td>\n",
       "      <td>0.0</td>\n",
       "      <td>TEJADA Anibal (URU)</td>\n",
       "      <td>VALLARINO Ricardo (URU)</td>\n",
       "      <td>BALWAY Thomas (FRA)</td>\n",
       "      <td>201.0</td>\n",
       "      <td>1093.0</td>\n",
       "      <td>YUG</td>\n",
       "      <td>BRA</td>\n",
       "    </tr>\n",
       "    <tr>\n",
       "      <th>3</th>\n",
       "      <td>1930.0</td>\n",
       "      <td>14 Jul 1930 - 14:50</td>\n",
       "      <td>Group 3</td>\n",
       "      <td>Pocitos</td>\n",
       "      <td>Montevideo</td>\n",
       "      <td>Romania</td>\n",
       "      <td>3.0</td>\n",
       "      <td>1.0</td>\n",
       "      <td>Peru</td>\n",
       "      <td></td>\n",
       "      <td>2549.0</td>\n",
       "      <td>1.0</td>\n",
       "      <td>0.0</td>\n",
       "      <td>WARNKEN Alberto (CHI)</td>\n",
       "      <td>LANGENUS Jean (BEL)</td>\n",
       "      <td>MATEUCCI Francisco (URU)</td>\n",
       "      <td>201.0</td>\n",
       "      <td>1098.0</td>\n",
       "      <td>ROU</td>\n",
       "      <td>PER</td>\n",
       "    </tr>\n",
       "    <tr>\n",
       "      <th>4</th>\n",
       "      <td>1930.0</td>\n",
       "      <td>15 Jul 1930 - 16:00</td>\n",
       "      <td>Group 1</td>\n",
       "      <td>Parque Central</td>\n",
       "      <td>Montevideo</td>\n",
       "      <td>Argentina</td>\n",
       "      <td>1.0</td>\n",
       "      <td>0.0</td>\n",
       "      <td>France</td>\n",
       "      <td></td>\n",
       "      <td>23409.0</td>\n",
       "      <td>0.0</td>\n",
       "      <td>0.0</td>\n",
       "      <td>REGO Gilberto (BRA)</td>\n",
       "      <td>SAUCEDO Ulises (BOL)</td>\n",
       "      <td>RADULESCU Constantin (ROU)</td>\n",
       "      <td>201.0</td>\n",
       "      <td>1085.0</td>\n",
       "      <td>ARG</td>\n",
       "      <td>FRA</td>\n",
       "    </tr>\n",
       "  </tbody>\n",
       "</table>\n",
       "</div>"
      ],
      "text/plain": [
       "     Year              Datetime    Stage         Stadium         City  \\\n",
       "0  1930.0  13 Jul 1930 - 15:00   Group 1         Pocitos  Montevideo    \n",
       "1  1930.0  13 Jul 1930 - 15:00   Group 4  Parque Central  Montevideo    \n",
       "2  1930.0  14 Jul 1930 - 12:45   Group 2  Parque Central  Montevideo    \n",
       "3  1930.0  14 Jul 1930 - 14:50   Group 3         Pocitos  Montevideo    \n",
       "4  1930.0  15 Jul 1930 - 16:00   Group 1  Parque Central  Montevideo    \n",
       "\n",
       "  Home Team Name  Home Team Goals  Away Team Goals Away Team Name  \\\n",
       "0         France              4.0              1.0         Mexico   \n",
       "1            USA              3.0              0.0        Belgium   \n",
       "2     Yugoslavia              2.0              1.0         Brazil   \n",
       "3        Romania              3.0              1.0           Peru   \n",
       "4      Argentina              1.0              0.0         France   \n",
       "\n",
       "  Win conditions  Attendance  Half-time Home Goals  Half-time Away Goals  \\\n",
       "0                     4444.0                   3.0                   0.0   \n",
       "1                    18346.0                   2.0                   0.0   \n",
       "2                    24059.0                   2.0                   0.0   \n",
       "3                     2549.0                   1.0                   0.0   \n",
       "4                    23409.0                   0.0                   0.0   \n",
       "\n",
       "                  Referee               Assistant 1  \\\n",
       "0  LOMBARDI Domingo (URU)     CRISTOPHE Henry (BEL)   \n",
       "1       MACIAS Jose (ARG)  MATEUCCI Francisco (URU)   \n",
       "2     TEJADA Anibal (URU)   VALLARINO Ricardo (URU)   \n",
       "3   WARNKEN Alberto (CHI)       LANGENUS Jean (BEL)   \n",
       "4     REGO Gilberto (BRA)      SAUCEDO Ulises (BOL)   \n",
       "\n",
       "                  Assistant 2  RoundID  MatchID Home Team Initials  \\\n",
       "0         REGO Gilberto (BRA)    201.0   1096.0                FRA   \n",
       "1       WARNKEN Alberto (CHI)    201.0   1090.0                USA   \n",
       "2         BALWAY Thomas (FRA)    201.0   1093.0                YUG   \n",
       "3    MATEUCCI Francisco (URU)    201.0   1098.0                ROU   \n",
       "4  RADULESCU Constantin (ROU)    201.0   1085.0                ARG   \n",
       "\n",
       "  Away Team Initials  \n",
       "0                MEX  \n",
       "1                BEL  \n",
       "2                BRA  \n",
       "3                PER  \n",
       "4                FRA  "
      ]
     },
     "execution_count": 374,
     "metadata": {},
     "output_type": "execute_result"
    }
   ],
   "source": [
    "data_matches.head()"
   ]
  },
  {
   "cell_type": "code",
   "execution_count": 375,
   "id": "cbcbb434",
   "metadata": {
    "ExecuteTime": {
     "end_time": "2022-12-05T00:29:07.299796Z",
     "start_time": "2022-12-05T00:29:07.286784Z"
    }
   },
   "outputs": [
    {
     "data": {
      "text/html": [
       "<div>\n",
       "<style scoped>\n",
       "    .dataframe tbody tr th:only-of-type {\n",
       "        vertical-align: middle;\n",
       "    }\n",
       "\n",
       "    .dataframe tbody tr th {\n",
       "        vertical-align: top;\n",
       "    }\n",
       "\n",
       "    .dataframe thead th {\n",
       "        text-align: right;\n",
       "    }\n",
       "</style>\n",
       "<table border=\"1\" class=\"dataframe\">\n",
       "  <thead>\n",
       "    <tr style=\"text-align: right;\">\n",
       "      <th></th>\n",
       "      <th>Year</th>\n",
       "      <th>Country</th>\n",
       "      <th>Winner</th>\n",
       "      <th>Runners-Up</th>\n",
       "      <th>Third</th>\n",
       "      <th>Fourth</th>\n",
       "      <th>GoalsScored</th>\n",
       "      <th>QualifiedTeams</th>\n",
       "      <th>MatchesPlayed</th>\n",
       "      <th>Attendance</th>\n",
       "    </tr>\n",
       "  </thead>\n",
       "  <tbody>\n",
       "    <tr>\n",
       "      <th>0</th>\n",
       "      <td>1930</td>\n",
       "      <td>Uruguay</td>\n",
       "      <td>Uruguay</td>\n",
       "      <td>Argentina</td>\n",
       "      <td>USA</td>\n",
       "      <td>Yugoslavia</td>\n",
       "      <td>70</td>\n",
       "      <td>13</td>\n",
       "      <td>18</td>\n",
       "      <td>590.549</td>\n",
       "    </tr>\n",
       "    <tr>\n",
       "      <th>1</th>\n",
       "      <td>1934</td>\n",
       "      <td>Italy</td>\n",
       "      <td>Italy</td>\n",
       "      <td>Czechoslovakia</td>\n",
       "      <td>Germany</td>\n",
       "      <td>Austria</td>\n",
       "      <td>70</td>\n",
       "      <td>16</td>\n",
       "      <td>17</td>\n",
       "      <td>363.000</td>\n",
       "    </tr>\n",
       "    <tr>\n",
       "      <th>2</th>\n",
       "      <td>1938</td>\n",
       "      <td>France</td>\n",
       "      <td>Italy</td>\n",
       "      <td>Hungary</td>\n",
       "      <td>Brazil</td>\n",
       "      <td>Sweden</td>\n",
       "      <td>84</td>\n",
       "      <td>15</td>\n",
       "      <td>18</td>\n",
       "      <td>375.700</td>\n",
       "    </tr>\n",
       "    <tr>\n",
       "      <th>3</th>\n",
       "      <td>1950</td>\n",
       "      <td>Brazil</td>\n",
       "      <td>Uruguay</td>\n",
       "      <td>Brazil</td>\n",
       "      <td>Sweden</td>\n",
       "      <td>Spain</td>\n",
       "      <td>88</td>\n",
       "      <td>13</td>\n",
       "      <td>22</td>\n",
       "      <td>1.045.246</td>\n",
       "    </tr>\n",
       "    <tr>\n",
       "      <th>4</th>\n",
       "      <td>1954</td>\n",
       "      <td>Switzerland</td>\n",
       "      <td>Germany FR</td>\n",
       "      <td>Hungary</td>\n",
       "      <td>Austria</td>\n",
       "      <td>Uruguay</td>\n",
       "      <td>140</td>\n",
       "      <td>16</td>\n",
       "      <td>26</td>\n",
       "      <td>768.607</td>\n",
       "    </tr>\n",
       "  </tbody>\n",
       "</table>\n",
       "</div>"
      ],
      "text/plain": [
       "   Year      Country      Winner      Runners-Up    Third      Fourth  \\\n",
       "0  1930      Uruguay     Uruguay       Argentina      USA  Yugoslavia   \n",
       "1  1934        Italy       Italy  Czechoslovakia  Germany     Austria   \n",
       "2  1938       France       Italy         Hungary   Brazil      Sweden   \n",
       "3  1950       Brazil     Uruguay          Brazil   Sweden       Spain   \n",
       "4  1954  Switzerland  Germany FR         Hungary  Austria     Uruguay   \n",
       "\n",
       "   GoalsScored  QualifiedTeams  MatchesPlayed Attendance  \n",
       "0           70              13             18    590.549  \n",
       "1           70              16             17    363.000  \n",
       "2           84              15             18    375.700  \n",
       "3           88              13             22  1.045.246  \n",
       "4          140              16             26    768.607  "
      ]
     },
     "execution_count": 375,
     "metadata": {},
     "output_type": "execute_result"
    }
   ],
   "source": [
    "data_winner.head()"
   ]
  },
  {
   "cell_type": "code",
   "execution_count": 376,
   "id": "108b45db",
   "metadata": {
    "ExecuteTime": {
     "end_time": "2022-12-05T00:29:07.754620Z",
     "start_time": "2022-12-05T00:29:07.743620Z"
    }
   },
   "outputs": [
    {
     "data": {
      "text/html": [
       "<div>\n",
       "<style scoped>\n",
       "    .dataframe tbody tr th:only-of-type {\n",
       "        vertical-align: middle;\n",
       "    }\n",
       "\n",
       "    .dataframe tbody tr th {\n",
       "        vertical-align: top;\n",
       "    }\n",
       "\n",
       "    .dataframe thead th {\n",
       "        text-align: right;\n",
       "    }\n",
       "</style>\n",
       "<table border=\"1\" class=\"dataframe\">\n",
       "  <thead>\n",
       "    <tr style=\"text-align: right;\">\n",
       "      <th></th>\n",
       "      <th>RoundID</th>\n",
       "      <th>MatchID</th>\n",
       "      <th>Team Initials</th>\n",
       "      <th>Coach Name</th>\n",
       "      <th>Line-up</th>\n",
       "      <th>Shirt Number</th>\n",
       "      <th>Player Name</th>\n",
       "      <th>Position</th>\n",
       "      <th>Event</th>\n",
       "    </tr>\n",
       "  </thead>\n",
       "  <tbody>\n",
       "    <tr>\n",
       "      <th>0</th>\n",
       "      <td>201</td>\n",
       "      <td>1096</td>\n",
       "      <td>FRA</td>\n",
       "      <td>CAUDRON Raoul (FRA)</td>\n",
       "      <td>S</td>\n",
       "      <td>0</td>\n",
       "      <td>Alex THEPOT</td>\n",
       "      <td>GK</td>\n",
       "      <td>NaN</td>\n",
       "    </tr>\n",
       "    <tr>\n",
       "      <th>1</th>\n",
       "      <td>201</td>\n",
       "      <td>1096</td>\n",
       "      <td>MEX</td>\n",
       "      <td>LUQUE Juan (MEX)</td>\n",
       "      <td>S</td>\n",
       "      <td>0</td>\n",
       "      <td>Oscar BONFIGLIO</td>\n",
       "      <td>GK</td>\n",
       "      <td>NaN</td>\n",
       "    </tr>\n",
       "    <tr>\n",
       "      <th>2</th>\n",
       "      <td>201</td>\n",
       "      <td>1096</td>\n",
       "      <td>FRA</td>\n",
       "      <td>CAUDRON Raoul (FRA)</td>\n",
       "      <td>S</td>\n",
       "      <td>0</td>\n",
       "      <td>Marcel LANGILLER</td>\n",
       "      <td>NaN</td>\n",
       "      <td>G40'</td>\n",
       "    </tr>\n",
       "    <tr>\n",
       "      <th>3</th>\n",
       "      <td>201</td>\n",
       "      <td>1096</td>\n",
       "      <td>MEX</td>\n",
       "      <td>LUQUE Juan (MEX)</td>\n",
       "      <td>S</td>\n",
       "      <td>0</td>\n",
       "      <td>Juan CARRENO</td>\n",
       "      <td>NaN</td>\n",
       "      <td>G70'</td>\n",
       "    </tr>\n",
       "    <tr>\n",
       "      <th>4</th>\n",
       "      <td>201</td>\n",
       "      <td>1096</td>\n",
       "      <td>FRA</td>\n",
       "      <td>CAUDRON Raoul (FRA)</td>\n",
       "      <td>S</td>\n",
       "      <td>0</td>\n",
       "      <td>Ernest LIBERATI</td>\n",
       "      <td>NaN</td>\n",
       "      <td>NaN</td>\n",
       "    </tr>\n",
       "  </tbody>\n",
       "</table>\n",
       "</div>"
      ],
      "text/plain": [
       "   RoundID  MatchID Team Initials           Coach Name Line-up  Shirt Number  \\\n",
       "0      201     1096           FRA  CAUDRON Raoul (FRA)       S             0   \n",
       "1      201     1096           MEX     LUQUE Juan (MEX)       S             0   \n",
       "2      201     1096           FRA  CAUDRON Raoul (FRA)       S             0   \n",
       "3      201     1096           MEX     LUQUE Juan (MEX)       S             0   \n",
       "4      201     1096           FRA  CAUDRON Raoul (FRA)       S             0   \n",
       "\n",
       "        Player Name Position Event  \n",
       "0       Alex THEPOT       GK   NaN  \n",
       "1   Oscar BONFIGLIO       GK   NaN  \n",
       "2  Marcel LANGILLER      NaN  G40'  \n",
       "3      Juan CARRENO      NaN  G70'  \n",
       "4   Ernest LIBERATI      NaN   NaN  "
      ]
     },
     "execution_count": 376,
     "metadata": {},
     "output_type": "execute_result"
    }
   ],
   "source": [
    "data_players.head()"
   ]
  },
  {
   "cell_type": "markdown",
   "id": "d5376507",
   "metadata": {},
   "source": [
    "# 3. EDA\n",
    "\n",
    "\n",
    "Agora deixe-me fazer algumas explorações. Vamos começar com o óbvio e ver quantas vezes cada seleção já venceu a Copa do Mundo antes:\n"
   ]
  },
  {
   "cell_type": "code",
   "execution_count": 377,
   "id": "f35b9c6c",
   "metadata": {
    "ExecuteTime": {
     "end_time": "2022-12-05T00:29:10.601186Z",
     "start_time": "2022-12-05T00:29:10.398188Z"
    }
   },
   "outputs": [
    {
     "data": {
      "image/png": "[encoded data removed]",
      "text/plain": [
       "<Figure size 1500x700 with 1 Axes>"
      ]
     },
     "metadata": {},
     "output_type": "display_data"
    }
   ],
   "source": [
    "plt.figure(figsize=(15,7))\n",
    "sns.countplot(data=data_winner, x='Winner')\n",
    "plt.grid(True)\n",
    "\n",
    "plt.ylabel('Número de Copas do Mundo ganhas',fontsize=14)\n",
    "plt.xlabel('Pais',fontsize=14);"
   ]
  },
  {
   "cell_type": "markdown",
   "id": "064ba28e",
   "metadata": {},
   "source": [
    "O Brasil venceu 5, a Itália venceu 4 e a Argentina venceu 2 duas.\n",
    "\n",
    "Outra coisa bacana que podemos explorar está relacionada ao fato de que, no dataset das partidas, temos também a fase do torneio. É interessante explorá-lo porque o número de vezes que um país passou da fase de grupos é obviamente um indicativo da qualidade daquela seleção.\n",
    "\n",
    "Vamos dar uma olhada:"
   ]
  },
  {
   "cell_type": "code",
   "execution_count": 378,
   "id": "5ae5788c",
   "metadata": {
    "ExecuteTime": {
     "end_time": "2022-12-05T00:29:18.253353Z",
     "start_time": "2022-12-05T00:29:17.911281Z"
    },
    "scrolled": false
   },
   "outputs": [
    {
     "data": {
      "image/png": "[encoded data removed]",
      "text/plain": [
       "<Figure size 2000x700 with 1 Axes>"
      ]
     },
     "metadata": {},
     "output_type": "display_data"
    }
   ],
   "source": [
    "plt.figure(figsize=(20,7))\n",
    "sns.countplot(data=data_matches,  x='Stage')\n",
    "plt.ylabel('Quantidade',fontsize=14)\n",
    "plt.xticks(rotation=90);"
   ]
  },
  {
   "attachments": {},
   "cell_type": "markdown",
   "id": "7a266985",
   "metadata": {},
   "source": [
    "Portanto, temos muitos jogos da fase de grupos, mas apenas algumas eliminatórias. Isso faz todo o sentido porque, claro, você tem vários grupos, mas apenas uma fase eliminatória."
   ]
  },
  {
   "cell_type": "markdown",
   "id": "a4dff576",
   "metadata": {},
   "source": [
    "# 3. Modelando a Distribuição de Probabilidade\n",
    "Agora que a parte chata está feita, vamos aos detalhes de como vamos simular esta Copa do Mundo.\n",
    "\n",
    "Temos nossas equipes e suas partidas. Digamos que você tenha o Time 1 (T_1) e o Time 2 (T_2). Qual é a probabilidade de que o Time 1 vença a partida? <p> <br>\n",
    "\n",
    "# <center> $ P(T1 \\; vencendo\\; T2)= \\frac{número \\;de\\; vezes\\; que\\; T1\\; venceu\\; contra\\;T2}{número \\;de\\; correspondências\\; entre \\;T1\\; e \\;T2} $ </center>\n",
    "    \n",
    "    \n",
    "\n",
    "Sobre o empate: claro, duas equipes podem empatar na fase de grupos, mas não podem empatar na fase eliminatória. Eu vou te dizer como lidar com isso mais tarde.\n",
    "\n",
    "# <center> $ P(T1\\;vencedor) = \\frac{número\\;de\\;vezes\\;que\\;T1\\;venceu}{número\\;de\\;jogos\\;de\\;T1} $ </center>\n",
    "    \n",
    "\n",
    "É claro que é o mesmo para empatar ou perder.\n",
    "    \n",
    "Para isso, precisamos da seguinte coluna para as partidas, que chamamos de \"Result\":\n",
    "    "
   ]
  },
  {
   "cell_type": "code",
   "execution_count": 379,
   "id": "85ee227a",
   "metadata": {
    "ExecuteTime": {
     "end_time": "2022-12-05T00:29:20.493400Z",
     "start_time": "2022-12-05T00:29:20.478397Z"
    }
   },
   "outputs": [],
   "source": [
    "filtro_2 = data_matches['Home Team Goals']>data_matches['Away Team Goals']\n",
    "filtro_3 = data_matches['Home Team Goals']<data_matches['Away Team Goals']\n",
    "\n",
    "data_matches['Result']           = 'Draw'\n",
    "data_matches['Result'][filtro_2] = data_matches[filtro_2]['Home Team Name']\n",
    "data_matches['Result'][filtro_3] = data_matches[filtro_3]['Away Team Name']"
   ]
  },
  {
   "cell_type": "code",
   "execution_count": 380,
   "id": "3568db3f",
   "metadata": {
    "ExecuteTime": {
     "end_time": "2022-12-05T00:29:21.832459Z",
     "start_time": "2022-12-05T00:29:21.814461Z"
    }
   },
   "outputs": [
    {
     "data": {
      "text/plain": [
       "array(['France', 'USA', 'Yugoslavia', 'Romania', 'Argentina', 'Chile',\n",
       "       'Uruguay', 'Brazil', 'Paraguay', 'Austria', 'Hungary',\n",
       "       'Switzerland', 'Sweden', 'Germany', 'Spain', 'Italy',\n",
       "       'Czechoslovakia', 'Draw', 'Cuba', 'England', 'Germany FR',\n",
       "       'Turkey', 'Northern Ireland', 'Soviet Union', 'Wales', 'Mexico',\n",
       "       'Portugal', 'Korea DPR', 'Peru', 'Belgium', 'German DR',\n",
       "       'Scotland', 'Netherlands', 'Poland', 'Tunisia', 'Algeria',\n",
       "       'Denmark', 'Morocco', 'Cameroon', 'Colombia', 'Costa Rica',\n",
       "       'rn\">Republic of Ireland', 'Norway', 'Nigeria', 'Saudi Arabia',\n",
       "       'Bulgaria', 'Russia', 'Croatia', 'Iran', 'Jamaica', 'Senegal',\n",
       "       'Korea Republic', 'South Africa', 'Japan', 'Ecuador', 'Australia',\n",
       "       'Czech Republic', 'Ghana', 'Ukraine', \"C�te d'Ivoire\", 'Slovenia',\n",
       "       'Greece', 'Serbia', 'Slovakia', 'rn\">Bosnia and Herzegovina'],\n",
       "      dtype=object)"
      ]
     },
     "execution_count": 380,
     "metadata": {},
     "output_type": "execute_result"
    }
   ],
   "source": [
    "data_matches['Result'] .unique()"
   ]
  },
  {
   "cell_type": "markdown",
   "id": "82e3997a",
   "metadata": {},
   "source": [
    "Agora temos que selecionar o time para a Copa do Mundo do Catar. Não dá muito trabalho e podemos simplesmente copiar e colar do site. Eu fiz isso por você."
   ]
  },
  {
   "cell_type": "code",
   "execution_count": 381,
   "id": "3dff4cb4",
   "metadata": {
    "ExecuteTime": {
     "end_time": "2022-12-05T00:29:25.647663Z",
     "start_time": "2022-12-05T00:29:25.631664Z"
    }
   },
   "outputs": [],
   "source": [
    "qatar_team_list = [\"Argentina\",\"Australia\",\"Belgium\",\"Brazil\" ,\"Cameroon\", \"Canada\" ,\"Costa Rica\", \"Croatia\" ,\n",
    "                   \"Denmark\" ,\"Ecuador\" ,\"England\" ,\"France\" ,\"Germany\" ,\"Ghana\" ,\"IR Iran\",\"Japan\" ,\"Korea Republic\",\n",
    "                   \"Mexico\",\"Morocco\", \"Netherlands\",\"Poland\",\"Portugal\",\"Qatar\",\"Saudi Arabia\",\"Senegal\",\n",
    "                   \"Serbia\",\"Spain\",\"Switzerland\",\"Tunisia\",\"Uruguay\",\"USA\",\"Wales\"]"
   ]
  },
  {
   "cell_type": "markdown",
   "id": "fa88a788",
   "metadata": {},
   "source": [
    "Agora temos que combinar os dados que temos com a lista da equipe. Temos que ter certeza de que temos todas as equipes que estarão no Catar no conjunto de dados."
   ]
  },
  {
   "cell_type": "code",
   "execution_count": 382,
   "id": "676473b9",
   "metadata": {
    "ExecuteTime": {
     "end_time": "2022-12-05T00:29:27.144599Z",
     "start_time": "2022-12-05T00:29:27.126567Z"
    }
   },
   "outputs": [
    {
     "name": "stdout",
     "output_type": "stream",
     "text": [
      "Houston, we have a problem with team Qatar\n"
     ]
    }
   ],
   "source": [
    "team_list = list(set(data_matches['Home Team Name']))\n",
    "for t in qatar_team_list:\n",
    "    if t not in team_list:\n",
    "        print('Houston, we have a problem with team %s'%(t))\n",
    "qatar_probabilities = {'Win':0.20,'Draw':0.20,'Lose':0.60}"
   ]
  },
  {
   "cell_type": "markdown",
   "id": "0fa976fd",
   "metadata": {},
   "source": [
    "Então, ironicamente, o Catar é o único time que não temos em nosso conjunto de dados. Trataremos disso mais tarde. Vamos adicionar um dicionário qatar_probabilities por enquanto, que é uma espécie de probabilidade realista inventada de quantos jogos o Qatar pode realmente vencer na Copa do Mundo.\n",
    "\n",
    "Agora, se quisermos fazer a conversão de probabilidade, vamos usar a seguinte função:"
   ]
  },
  {
   "cell_type": "code",
   "execution_count": 234,
   "id": "2e2e5976",
   "metadata": {
    "ExecuteTime": {
     "end_time": "2022-12-04T00:21:37.488220Z",
     "start_time": "2022-12-04T00:21:37.471591Z"
    }
   },
   "outputs": [],
   "source": [
    "def select_team_statistics(team):    \n",
    "    data_team     = data_matches[(data_matches['Home Team Name']==team)| (data_matches['Away Team Name']==team)]\n",
    "    winning_count = len(data_team[data_team['Result']==team])\n",
    "    draw_count    = len(data_team[data_team['Result']=='Draw'])\n",
    "    lose_count    = len(data_team)-winning_count-draw_count\n",
    "    \n",
    "    return data_team,{'Vitórias':winning_count,'Empate':draw_count,'Derrota':lose_count}"
   ]
  },
  {
   "cell_type": "markdown",
   "id": "ec907f97",
   "metadata": {},
   "source": [
    "E vamos traçar alguns resultados aleatórios:"
   ]
  },
  {
   "cell_type": "code",
   "execution_count": 383,
   "id": "4fe43f2a",
   "metadata": {
    "ExecuteTime": {
     "end_time": "2022-12-05T00:29:31.773495Z",
     "start_time": "2022-12-05T00:29:31.238867Z"
    }
   },
   "outputs": [
    {
     "data": {
      "image/png": "[encoded data removed]",
      "text/plain": [
       "<Figure size 1200x1000 with 4 Axes>"
      ]
     },
     "metadata": {},
     "output_type": "display_data"
    }
   ],
   "source": [
    "for i in range(1,5):\n",
    "    plt.subplot(2,2,i)\n",
    "    random_team = np.random.choice(qatar_team_list)\n",
    "    plt.title('Estatísticas da equipe %s'%(random_team),fontweight='bold')\n",
    "    team_data,stats = select_team_statistics(random_team)\n",
    "    labels, values = stats.keys(),stats.values()\n",
    "    plt.pie(values, labels = labels,colors=['navy','darkorange','firebrick'])"
   ]
  },
  {
   "cell_type": "markdown",
   "id": "6f30678e",
   "metadata": {},
   "source": [
    "Agora, tudo bem, mas precisamos fazer a probabilidade para as partidas , não apenas para times individuais. Estamos aplicando a regra acima da seguinte maneira:"
   ]
  },
  {
   "cell_type": "code",
   "execution_count": 257,
   "id": "d2e6521e",
   "metadata": {
    "ExecuteTime": {
     "end_time": "2022-12-04T00:35:03.985471Z",
     "start_time": "2022-12-04T00:35:03.961751Z"
    }
   },
   "outputs": [],
   "source": [
    "def select_match_statistics(team_A, team_B):\n",
    "    \n",
    "    filtro_1 = (data_matches['Home Team Name']==team_A) & (data_matches['Away Team Name']==team_B)\n",
    "    filtro_2 = (data_matches['Home Team Name']==team_B) & (data_matches['Away Team Name']==team_A)\n",
    "    \n",
    "    data_team = data_matches[filtro_1 | filtro_2]\n",
    "    len_data = len(data_team)\n",
    "    \n",
    "    if len_data==0:\n",
    "        msg = 'Esses times nunca jogaram um contra o outro'\n",
    "    else:\n",
    "        msg = 'Estas equipes se enfrentaram %i vezes'%(len_data)\n",
    "    \n",
    "    print(msg)\n",
    "    \n",
    "    team_A_win = len(data_team[data_team.Result==team_A])\n",
    "    team_B_win = len(data_team[data_team.Result==team_B])\n",
    "    draw = len(data_team[data_team.Result=='Draw'])\n",
    "    \n",
    "    return data_team,{team_A:team_A_win,team_B:team_B_win,'Draw':draw}"
   ]
  },
  {
   "cell_type": "markdown",
   "id": "22d2d2b1",
   "metadata": {},
   "source": [
    "Agora, essa probabilidade só funciona se as duas partidas tiverem um histórico de partidas. Isso, por exemplo, funciona com Brasil e Argentina:"
   ]
  },
  {
   "cell_type": "code",
   "execution_count": 258,
   "id": "18c56095",
   "metadata": {
    "ExecuteTime": {
     "end_time": "2022-12-04T00:35:04.859776Z",
     "start_time": "2022-12-04T00:35:04.839812Z"
    }
   },
   "outputs": [
    {
     "name": "stdout",
     "output_type": "stream",
     "text": [
      "Estas equipes se enfrentaram 4 vezes\n"
     ]
    }
   ],
   "source": [
    "data_match, stats = select_match_statistics('Brazil','Argentina')"
   ]
  },
  {
   "cell_type": "markdown",
   "id": "ae98ee2d",
   "metadata": {},
   "source": [
    "Mas o que vamos fazer neste caso?"
   ]
  },
  {
   "cell_type": "code",
   "execution_count": 260,
   "id": "a225ab1e",
   "metadata": {
    "ExecuteTime": {
     "end_time": "2022-12-04T00:36:55.856238Z",
     "start_time": "2022-12-04T00:36:55.833234Z"
    },
    "scrolled": true
   },
   "outputs": [
    {
     "name": "stdout",
     "output_type": "stream",
     "text": [
      "Esses times nunca jogaram um contra o outro\n"
     ]
    }
   ],
   "source": [
    "data_match,stats = select_match_statistics('France','Qatar')"
   ]
  },
  {
   "cell_type": "markdown",
   "id": "9bf3b0ae",
   "metadata": {},
   "source": [
    "Esta é uma pergunta real. Não tenho a resposta porque é difícil prever automaticamente o resultado de duas equipes que nunca se enfrentaram. O que podemos fazer é construir uma pontuação para cada vez e comparar as duas pontuações para convertê-las em uma probabilidade de vitória do Time 1, vitória do Time 2 ou empate dos dois times.\n",
    "\n",
    "Acho que uma boa pontuação para um time é o número (normalizado) de vezes que o time passou da fase de grupos. Este é, obviamente, um bom ponto que indica a qualidade de uma equipe. Vamos chamá-lo de 1. Outra coisa importante a considerar é o número de vezes que um time realmente ganhou a Copa do Mundo, vamos chamá-lo de pontuação 2. Como score_1 está entre 0 e 1 e score_2 pode ser 2, 3 ou 4, vamos multiplicá-lo por 0,5. Assim, dada uma equipe T, teremos:\n",
    "\n",
    "\n",
    "# <center> $ S(Tx)= S1(Tx) + \\frac{S2(Tx)}{2}  $ </center>\n",
    "\n",
    "\n",
    "Portanto, se tivermos duas equipes, T_x1 e T_x2, e definirmos a probabilidade de T_x1 vencer como P(T_x1, T_x2), podemos dizer que:\n",
    "\n",
    "# <center> $ P(Tx1,Tx2)= \\frac{S(Tx1)}{S(Tx1)\\;+\\;S(Tx2)}  $ </center>\n",
    "\n",
    "e: \n",
    "\n",
    "\n",
    "# <center> $ P(Tx2,Tx1)= \\frac{S(Tx2)}{S(Tx1)\\;+\\;S(Tx2)}  $ </center>\n",
    "\n",
    "\n",
    "Mas esta definição de probabilidade não nos permite desenhar. Então, preferimos dizer que a probabilidade de empate entre duas equipes que nunca jogaram uma partida é fixa, digamos em 0.10,  diremos então que:\n",
    "\n",
    "\n",
    "# <center> $ P(Tx1,Tx2)= \\frac{S(Tx1)}{S(Tx1)\\;+\\;S(Tx2)}\\;-\\;0.05   $ </center>\n",
    "\n",
    "# <center> $ P(Tx2,Tx1)= \\frac{S(Tx2)}{S(Tx1)\\;+\\;S(Tx2)}\\;-\\;0.05   $ </center>\n",
    "\n",
    "\n",
    "E a probabilidade deles empatarem é: \n",
    "\n",
    "# <center> $ Pe(Tx1,Tx2)= 0.10   $ </center>\n"
   ]
  },
  {
   "cell_type": "markdown",
   "id": "4abe1840",
   "metadata": {},
   "source": [
    "## 1. Função para obter a pontuação de uma equipe"
   ]
  },
  {
   "cell_type": "code",
   "execution_count": 267,
   "id": "be54018f",
   "metadata": {
    "ExecuteTime": {
     "end_time": "2022-12-04T01:09:45.147603Z",
     "start_time": "2022-12-04T01:09:45.129607Z"
    },
    "code_folding": [
     0
    ]
   },
   "outputs": [],
   "source": [
    "def find_score(team):\n",
    "    \n",
    "    team_data, stats = select_team_statistics(team)\n",
    "    team_stage = team_data['Stage'].reset_index().drop('index',axis=1)\n",
    "    sum_groups = 0\n",
    "    sum_finals = 0\n",
    "    \n",
    "    for s in range(len(team_stage)):\n",
    "        stage_val = team_stage.loc[s].values[0].split(' ')\n",
    "        if stage_val[0]=='Group':\n",
    "            sum_groups = sum_groups + 1\n",
    "        if stage_val[0]!='Group':\n",
    "            sum_finals = sum_finals + 1\n",
    "    \n",
    "    score_1 = sum_finals/(sum_groups+sum_finals)\n",
    "    \n",
    "    try:\n",
    "        score_2 = 0.5*data_winner.value_counts(subset='Winner')[team]\n",
    "    except:\n",
    "        score_2=0\n",
    "        \n",
    "    return score_1+score_2"
   ]
  },
  {
   "cell_type": "code",
   "execution_count": 268,
   "id": "16f2ba2e",
   "metadata": {
    "ExecuteTime": {
     "end_time": "2022-12-04T01:09:45.585833Z",
     "start_time": "2022-12-04T01:09:45.561832Z"
    }
   },
   "outputs": [
    {
     "data": {
      "text/plain": [
       "2.9166666666666665"
      ]
     },
     "execution_count": 268,
     "metadata": {},
     "output_type": "execute_result"
    }
   ],
   "source": [
    "find_score('Brazil')"
   ]
  },
  {
   "cell_type": "markdown",
   "id": "8e80a469",
   "metadata": {},
   "source": [
    "## 2. Função para converter as pontuações de duas equipes em uma probabilidade"
   ]
  },
  {
   "cell_type": "code",
   "execution_count": 269,
   "id": "d3444500",
   "metadata": {
    "ExecuteTime": {
     "end_time": "2022-12-04T01:10:26.771773Z",
     "start_time": "2022-12-04T01:10:26.737774Z"
    },
    "code_folding": [
     0
    ]
   },
   "outputs": [],
   "source": [
    "def find_score_two_teams(team_A,team_B):\n",
    "    \n",
    "    if team_A == 'Qatar':\n",
    "        score_1 = 0.09\n",
    "        score_2 = find_score(team_B)\n",
    "    \n",
    "    if team_B == 'Qatar':\n",
    "        score_2 = 0.09\n",
    "        score_1 = find_score(team_A)\n",
    "    \n",
    "    if team_A!='Qatar' and team_B!='Qatar':\n",
    "        score_1 = find_score(team_A)\n",
    "        score_2 = find_score(team_B)\n",
    "    \n",
    "    team_A_score = score_1/(score_1+score_2)\n",
    "    team_B_score = score_2/(score_1+score_2)\n",
    "    \n",
    "    if team_A_score>team_B_score:\n",
    "        team_A_score = min(0.90,team_A_score)\n",
    "        team_B_score = max(0.10,team_B_score)\n",
    "    else:\n",
    "        team_B_score = min(0.90,team_B_score)\n",
    "        team_A_score = max(0.10,team_A_score)\n",
    "    \n",
    "    team_A_score = team_A_score-0.05\n",
    "    team_B_score = team_B_score-0.05\n",
    "    res = {team_A: team_A_score, team_B:team_B_score, 'Draw':0.10}\n",
    "    \n",
    "    return res"
   ]
  },
  {
   "cell_type": "markdown",
   "id": "a1b940ba",
   "metadata": {},
   "source": [
    "> *Como podemos ver, a pontuação do Catar é de 0,09. Eu consegui isso no primeiro quartil de 0,25 de toda a distribuição de pontuação 1. Este é um valor razoavelmente (baixo) para um time que nunca disputou uma Copa do Mundo."
   ]
  },
  {
   "cell_type": "markdown",
   "id": "8165a3cd",
   "metadata": {},
   "source": [
    "## 3. Função para extrair as probabilidades dos resultados entre duas equipes"
   ]
  },
  {
   "cell_type": "code",
   "execution_count": 277,
   "id": "3f48ee6d",
   "metadata": {
    "ExecuteTime": {
     "end_time": "2022-12-04T01:16:31.813991Z",
     "start_time": "2022-12-04T01:16:31.802008Z"
    },
    "code_folding": [
     0
    ]
   },
   "outputs": [],
   "source": [
    "def select_match_statistics(team_A, team_B):\n",
    "    \n",
    "    filter_1  = (data_matches['Home Team Name']==team_A) & (data_matches['Away Team Name']==team_B)\n",
    "    filter_2  = (data_matches['Home Team Name']==team_B) & (data_matches['Away Team Name']==team_A)\n",
    "    data_team = data_matches[filter_1 | filter_2]    \n",
    "    len_data  = len(data_team)\n",
    "    \n",
    "    if len_data==0:\n",
    "        #print('These teams never played against each other')\n",
    "        res = find_score_two_teams(team_A,team_B)\n",
    "    else:\n",
    "        #print('These teams played against each other %i times'%(len_data))\n",
    "        team_A_win = len(data_team[data_team.Result==team_A])/len_data\n",
    "        team_B_win = len(data_team[data_team.Result==team_B])/len_data\n",
    "        draw = len(data_team[data_team.Result=='Draw'])/len_data\n",
    "        res_list = [team_A_win,team_B_win,draw]\n",
    "        cond = 0\n",
    "        for i in range(len(res_list)):\n",
    "            if res_list[i]==1.0:\n",
    "                res_list[i] = 0.80\n",
    "                k=i\n",
    "                cond = 1\n",
    "                break\n",
    "        if cond==1:\n",
    "            for i in range(len(res_list)):\n",
    "                if i!=k:\n",
    "                    res_list[i]=0.10\n",
    "\n",
    "        res = {team_A:res_list[0],team_B:res_list[1],'Draw':res_list[2]}\n",
    "    return data_team,res"
   ]
  },
  {
   "cell_type": "code",
   "execution_count": 294,
   "id": "4636a544",
   "metadata": {
    "ExecuteTime": {
     "end_time": "2022-12-04T01:21:21.892013Z",
     "start_time": "2022-12-04T01:21:21.865995Z"
    }
   },
   "outputs": [],
   "source": [
    "_,stats_1 = select_match_statistics('Saudi Arabia','Portugal')\n",
    "_,stats_2 = select_match_statistics('Brazil', 'Germany')"
   ]
  },
  {
   "cell_type": "code",
   "execution_count": 295,
   "id": "da0cc098",
   "metadata": {
    "ExecuteTime": {
     "end_time": "2022-12-04T01:21:22.445658Z",
     "start_time": "2022-12-04T01:21:22.425643Z"
    }
   },
   "outputs": [
    {
     "data": {
      "text/plain": [
       "{'Saudi Arabia': 0.15000000000000002, 'Portugal': 0.75, 'Draw': 0.1}"
      ]
     },
     "execution_count": 295,
     "metadata": {},
     "output_type": "execute_result"
    }
   ],
   "source": [
    "stats_1"
   ]
  },
  {
   "cell_type": "code",
   "execution_count": 296,
   "id": "87641839",
   "metadata": {
    "ExecuteTime": {
     "end_time": "2022-12-04T01:21:22.898902Z",
     "start_time": "2022-12-04T01:21:22.889864Z"
    }
   },
   "outputs": [
    {
     "data": {
      "text/plain": [
       "{'Brazil': 0.3333333333333333, 'Germany': 0.6666666666666666, 'Draw': 0.0}"
      ]
     },
     "execution_count": 296,
     "metadata": {},
     "output_type": "execute_result"
    }
   ],
   "source": [
    "stats_2"
   ]
  },
  {
   "cell_type": "markdown",
   "id": "3703dcd5",
   "metadata": {},
   "source": [
    "> *Também me certifiquei de que não é possível que um time tenha 100% de probabilidade de vencer outro somando alguma (pequena) probabilidade de perder e empatar"
   ]
  },
  {
   "cell_type": "markdown",
   "id": "4871ffce",
   "metadata": {},
   "source": [
    "## 3. A DIVERSÃO!\n",
    "Agora é hora de fazer nosso modelo rodar. Temos que construir os grupos exatos para a Copa do Mundo do Catar. Faremos esse grupo rodar e um time vencerá, empatará ou perderá com base na probabilidade que construímos.\n",
    "\n",
    "Também construiremos a etapa de eliminação algorítmica (primeira equipe do Grupo A x segunda equipe do Grupo B, primeira equipe do Grupo B x segunda equipe do Grupo A).\n",
    "\n",
    "Executaremos esse algoritmo várias vezes e escolheremos o vencedor.\n",
    "\n",
    "Deixe-me fazer isso passo a passo. Vamos definir os grupos:"
   ]
  },
  {
   "cell_type": "code",
   "execution_count": 297,
   "id": "4bf73cae",
   "metadata": {
    "ExecuteTime": {
     "end_time": "2022-12-04T01:23:09.224908Z",
     "start_time": "2022-12-04T01:23:09.217912Z"
    }
   },
   "outputs": [],
   "source": [
    "group_A = ['Qatar','Ecuador','Senegal','Netherlands']\n",
    "group_B = ['England','IR Iran','USA','Wales']\n",
    "group_C = ['Argentina','Saudi Arabia','Mexico','Poland']\n",
    "group_D = ['France','Australia','Denmark','Tunisia']\n",
    "group_E = ['Spain','Costa Rica','Germany','Japan']\n",
    "group_F = ['Belgium','Canada','Morocco','Croatia']\n",
    "group_G = ['Brazil','Serbia','Switzerland','Cameroon']\n",
    "group_H = ['Portugal','Ghana','Uruguay','Korea Republic']"
   ]
  },
  {
   "cell_type": "code",
   "execution_count": 298,
   "id": "79b84932",
   "metadata": {
    "ExecuteTime": {
     "end_time": "2022-12-04T01:23:31.282853Z",
     "start_time": "2022-12-04T01:23:31.272837Z"
    }
   },
   "outputs": [],
   "source": [
    "groups = [group_A,group_B,group_C,group_D,group_E,group_F,group_G,group_H]"
   ]
  },
  {
   "cell_type": "markdown",
   "id": "2e3894d0",
   "metadata": {},
   "source": [
    "por exemplo, a probabilidade para o grupo B:"
   ]
  },
  {
   "cell_type": "code",
   "execution_count": 300,
   "id": "e1a6551e",
   "metadata": {
    "ExecuteTime": {
     "end_time": "2022-12-04T01:26:06.078981Z",
     "start_time": "2022-12-04T01:26:05.963995Z"
    }
   },
   "outputs": [
    {
     "name": "stdout",
     "output_type": "stream",
     "text": [
      "{'England': 0.85, 'IR Iran': 0.05, 'Draw': 0.1}\n",
      "{'England': 0.0, 'USA': 0.5, 'Draw': 0.5}\n",
      "{'England': 0.7480456026058632, 'Wales': 0.15195439739413685, 'Draw': 0.1}\n",
      "{'IR Iran': 0.05, 'England': 0.85, 'Draw': 0.1}\n",
      "{'IR Iran': 0.05, 'USA': 0.85, 'Draw': 0.1}\n",
      "{'IR Iran': 0.05, 'Wales': 0.85, 'Draw': 0.1}\n",
      "{'USA': 0.5, 'England': 0.0, 'Draw': 0.5}\n",
      "{'USA': 0.85, 'IR Iran': 0.05, 'Draw': 0.1}\n",
      "{'USA': 0.4905405405405406, 'Wales': 0.4094594594594595, 'Draw': 0.1}\n",
      "{'Wales': 0.15195439739413685, 'England': 0.7480456026058632, 'Draw': 0.1}\n",
      "{'Wales': 0.85, 'IR Iran': 0.05, 'Draw': 0.1}\n",
      "{'Wales': 0.4094594594594595, 'USA': 0.4905405405405406, 'Draw': 0.1}\n"
     ]
    }
   ],
   "source": [
    "group_name = group_B\n",
    "for team_1 in group_name:\n",
    "    for team_2 in group_name:\n",
    "        if team_1!=team_2:\n",
    "            _,stats = select_match_statistics(team_1,team_2)\n",
    "            if sum(stats.values())==0:\n",
    "                print(stats)\n",
    "                print('Como fazemos isso? :(')\n",
    "            else:\n",
    "                print(stats)"
   ]
  },
  {
   "cell_type": "markdown",
   "id": "a896fbad",
   "metadata": {},
   "source": [
    "Com base nessas probabilidades, podemos fazer a simulação da seguinte forma: Isso é para um determinado grupo:"
   ]
  },
  {
   "cell_type": "code",
   "execution_count": 301,
   "id": "61b5cb60",
   "metadata": {
    "ExecuteTime": {
     "end_time": "2022-12-04T01:27:46.473929Z",
     "start_time": "2022-12-04T01:27:46.442930Z"
    }
   },
   "outputs": [],
   "source": [
    "def run_group(group_name):\n",
    "    data_res = pd.DataFrame(np.zeros(len(group_name)).T,index= group_name,columns=['Points'])\n",
    "    for team_1 in group_name:\n",
    "        for team_2 in group_name:\n",
    "            if team_1!=team_2:\n",
    "                _,stats = select_match_statistics(team_1,team_2)\n",
    "                result = np.random.choice(list(stats.keys()),p=list(stats.values()))\n",
    "                try:\n",
    "                    data_res['Points'].loc[result]=data_res['Points'].loc[result]+3\n",
    "                except:\n",
    "                    data_res['Points'].loc[team_1]=data_res['Points'].loc[team_1]+1\n",
    "                    data_res['Points'].loc[team_2]=data_res['Points'].loc[team_2]+1\n",
    "    return data_res.sort_values(by='Points',ascending=False)"
   ]
  },
  {
   "cell_type": "code",
   "execution_count": 303,
   "id": "4d72e9d0",
   "metadata": {
    "ExecuteTime": {
     "end_time": "2022-12-04T01:28:53.733795Z",
     "start_time": "2022-12-04T01:28:53.665779Z"
    }
   },
   "outputs": [],
   "source": [
    "group_names = ['group A','group B','group C','group D','group E','group F','group G','group H']\n",
    "def run_groups():\n",
    "    group_list =[]\n",
    "    for g in range(len(groups)):\n",
    "        g_group = run_group(groups[g])\n",
    "        g_group = g_group.rename(columns={'Points':'Points '+group_names[g]})\n",
    "        group_list.append(g_group)\n",
    "    return group_list    "
   ]
  },
  {
   "cell_type": "markdown",
   "id": "30ce1fd2",
   "metadata": {},
   "source": [
    "Vamos fazer as simulações para os grupos:"
   ]
  },
  {
   "cell_type": "code",
   "execution_count": 305,
   "id": "25db5fed",
   "metadata": {
    "ExecuteTime": {
     "end_time": "2022-12-04T01:30:03.395749Z",
     "start_time": "2022-12-04T01:30:02.682093Z"
    }
   },
   "outputs": [],
   "source": [
    "group_list = run_groups()"
   ]
  },
  {
   "cell_type": "code",
   "execution_count": 307,
   "id": "ad9d1fd2",
   "metadata": {
    "ExecuteTime": {
     "end_time": "2022-12-04T01:30:45.465659Z",
     "start_time": "2022-12-04T01:30:45.445514Z"
    }
   },
   "outputs": [
    {
     "data": {
      "text/html": [
       "<div>\n",
       "<style scoped>\n",
       "    .dataframe tbody tr th:only-of-type {\n",
       "        vertical-align: middle;\n",
       "    }\n",
       "\n",
       "    .dataframe tbody tr th {\n",
       "        vertical-align: top;\n",
       "    }\n",
       "\n",
       "    .dataframe thead th {\n",
       "        text-align: right;\n",
       "    }\n",
       "</style>\n",
       "<table border=\"1\" class=\"dataframe\">\n",
       "  <thead>\n",
       "    <tr style=\"text-align: right;\">\n",
       "      <th></th>\n",
       "      <th>Points group A</th>\n",
       "    </tr>\n",
       "  </thead>\n",
       "  <tbody>\n",
       "    <tr>\n",
       "      <th>Senegal</th>\n",
       "      <td>12.0</td>\n",
       "    </tr>\n",
       "    <tr>\n",
       "      <th>Netherlands</th>\n",
       "      <td>11.0</td>\n",
       "    </tr>\n",
       "    <tr>\n",
       "      <th>Qatar</th>\n",
       "      <td>8.0</td>\n",
       "    </tr>\n",
       "    <tr>\n",
       "      <th>Ecuador</th>\n",
       "      <td>2.0</td>\n",
       "    </tr>\n",
       "  </tbody>\n",
       "</table>\n",
       "</div>"
      ],
      "text/plain": [
       "             Points group A\n",
       "Senegal                12.0\n",
       "Netherlands            11.0\n",
       "Qatar                   8.0\n",
       "Ecuador                 2.0"
      ]
     },
     "execution_count": 307,
     "metadata": {},
     "output_type": "execute_result"
    }
   ],
   "source": [
    "group_list[0]"
   ]
  },
  {
   "cell_type": "code",
   "execution_count": 308,
   "id": "64f698f9",
   "metadata": {
    "ExecuteTime": {
     "end_time": "2022-12-04T01:31:03.455951Z",
     "start_time": "2022-12-04T01:31:03.433960Z"
    }
   },
   "outputs": [
    {
     "data": {
      "text/plain": [
       "[             Points group A\n",
       " Senegal                12.0\n",
       " Netherlands            11.0\n",
       " Qatar                   8.0\n",
       " Ecuador                 2.0,\n",
       "          Points group B\n",
       " England            13.0\n",
       " Wales              12.0\n",
       " USA                10.0\n",
       " IR Iran             0.0,\n",
       "               Points group C\n",
       " Argentina               13.0\n",
       " Poland                  10.0\n",
       " Mexico                   7.0\n",
       " Saudi Arabia             4.0,\n",
       "            Points group D\n",
       " France               18.0\n",
       " Denmark              12.0\n",
       " Australia             3.0\n",
       " Tunisia               3.0,\n",
       "             Points group E\n",
       " Spain                 15.0\n",
       " Germany                9.0\n",
       " Costa Rica             7.0\n",
       " Japan                  4.0,\n",
       "          Points group F\n",
       " Belgium            15.0\n",
       " Croatia            13.0\n",
       " Morocco             5.0\n",
       " Canada              1.0,\n",
       "              Points group G\n",
       " Brazil                 14.0\n",
       " Switzerland            11.0\n",
       " Cameroon                9.0\n",
       " Serbia                  0.0,\n",
       "                 Points group H\n",
       " Korea Republic            13.0\n",
       " Portugal                   9.0\n",
       " Uruguay                    8.0\n",
       " Ghana                      3.0]"
      ]
     },
     "execution_count": 308,
     "metadata": {},
     "output_type": "execute_result"
    }
   ],
   "source": [
    "group_list"
   ]
  },
  {
   "cell_type": "markdown",
   "id": "2058a1a9",
   "metadata": {},
   "source": [
    "Não sei você, mas acho que esses resultados são bem realistas.\n",
    "\n",
    "Vamos continuar!\n",
    "\n",
    "Dos grupos, esta é a fase eliminatória:"
   ]
  },
  {
   "cell_type": "code",
   "execution_count": 309,
   "id": "0cb90a11",
   "metadata": {
    "ExecuteTime": {
     "end_time": "2022-12-04T01:33:35.684673Z",
     "start_time": "2022-12-04T01:33:35.674673Z"
    }
   },
   "outputs": [],
   "source": [
    "def find_qualification_stage(res_groups):\n",
    "    qual_matches = []\n",
    "    group_stage = np.arange(0,len(groups),2)\n",
    "    k=0\n",
    "    for g in range(len(group_stage)):\n",
    "        qual_matches.append([res_groups[k].index[0],res_groups[k+1].index[1]])\n",
    "        qual_matches.append([res_groups[k].index[1],res_groups[k+1].index[0]])\n",
    "        k=k+2\n",
    "    return qual_matches"
   ]
  },
  {
   "cell_type": "code",
   "execution_count": 310,
   "id": "5dc63a72",
   "metadata": {
    "ExecuteTime": {
     "end_time": "2022-12-04T01:57:14.642273Z",
     "start_time": "2022-12-04T01:57:14.620275Z"
    }
   },
   "outputs": [],
   "source": [
    "def elimination_stage(selections,k=1):\n",
    "    quarter_finals_team = []\n",
    "    for i in range(len(selections)):\n",
    "        team_1 = selections[i][0]\n",
    "        team_2 = selections[i][1]\n",
    "        _,stats = select_match_statistics(team_1,team_2)\n",
    "        result = np.random.choice(list(stats.keys()),p=list(stats.values()))    \n",
    "        if result=='Draw':\n",
    "            result = np.random.choice([team_1,team_2],p=[0.5,0.5])\n",
    "        quarter_finals_team.append(result)\n",
    "    if k ==1: \n",
    "        quarter_finals_team=np.array(quarter_finals_team).reshape(2,-1)\n",
    "    return quarter_finals_team"
   ]
  },
  {
   "cell_type": "markdown",
   "id": "bc24fb3d",
   "metadata": {},
   "source": [
    "E esta é toda a simulação do torneio:"
   ]
  },
  {
   "cell_type": "code",
   "execution_count": 311,
   "id": "a3596df6",
   "metadata": {
    "ExecuteTime": {
     "end_time": "2022-12-04T01:58:34.264185Z",
     "start_time": "2022-12-04T01:58:34.179756Z"
    },
    "code_folding": [
     0
    ]
   },
   "outputs": [],
   "source": [
    "def whole_tournament():\n",
    "    group_stage = run_groups()\n",
    "    first_selection = find_qualification_stage(group_stage)\n",
    "    quarter_finals = elimination_stage(first_selection)\n",
    "    semi_finals = elimination_stage(quarter_finals,k=0)\n",
    "    _,stats = select_match_statistics(semi_finals[0],semi_finals[1])\n",
    "    winner = np.random.choice(list(stats.keys()),p=list(stats.values())) \n",
    "    if winner=='Draw':\n",
    "        winner = np.random.choice([semi_finals[0],semi_finals[1]],p=[0.5,0.5])\n",
    "    return winner"
   ]
  },
  {
   "cell_type": "markdown",
   "id": "b0659ddf",
   "metadata": {},
   "source": [
    "Este é um exemplo de toda a simulação do torneio:"
   ]
  },
  {
   "cell_type": "code",
   "execution_count": 312,
   "id": "56a23d4c",
   "metadata": {
    "ExecuteTime": {
     "end_time": "2022-12-04T01:59:12.719004Z",
     "start_time": "2022-12-04T01:59:11.979303Z"
    }
   },
   "outputs": [
    {
     "name": "stdout",
     "output_type": "stream",
     "text": [
      "[['Ecuador', 'England'], ['Senegal', 'Wales'], ['Argentina', 'Australia'], ['Mexico', 'Denmark'], ['Germany', 'Belgium'], ['Japan', 'Croatia'], ['Brazil', 'Uruguay'], ['Switzerland', 'Korea Republic']]\n",
      "[['England' 'Senegal' 'Argentina' 'Denmark']\n",
      " ['Germany' 'Croatia' 'Uruguay' 'Korea Republic']]\n",
      "['England', 'Croatia']\n",
      "Croatia\n"
     ]
    }
   ],
   "source": [
    "group_stage = run_groups()\n",
    "first_selection = find_qualification_stage(group_stage)\n",
    "print(first_selection)\n",
    "quarter_finals = elimination_stage(first_selection)\n",
    "print(quarter_finals)\n",
    "semi_finals = elimination_stage(quarter_finals,k=0)\n",
    "print(semi_finals)\n",
    "_,stats = select_match_statistics(semi_finals[0],semi_finals[1])\n",
    "winner = np.random.choice(list(stats.keys()),p=list(stats.values())) \n",
    "print(winner)\n",
    "\n",
    "if winner=='Draw':\n",
    "    winner = np.random.choice([semi_finals[0],semi_finals[1]],p=[0.5,0.5])"
   ]
  },
  {
   "cell_type": "markdown",
   "id": "741e6628",
   "metadata": {},
   "source": [
    "E podemos executar isso 10.000 vezes:"
   ]
  },
  {
   "cell_type": "code",
   "execution_count": 395,
   "id": "ea11d7f8",
   "metadata": {
    "ExecuteTime": {
     "end_time": "2022-12-05T00:33:39.929372Z",
     "start_time": "2022-12-05T00:32:24.176898Z"
    }
   },
   "outputs": [
    {
     "name": "stdout",
     "output_type": "stream",
     "text": [
      "CPU times: total: 1min 15s\n",
      "Wall time: 1min 15s\n"
     ]
    }
   ],
   "source": [
    "%%time\n",
    "stats_wcup = []\n",
    "for i in range(100):\n",
    "    if (i%100)==0 and i>0:\n",
    "        print('Número da simulação em execução %i' %(i))\n",
    "        so_far = pd.DataFrame(stats_wcup).value_counts().index[0][0]\n",
    "        print('O vencedor mais previsto até agora é %s'%(so_far))\n",
    "    winner = whole_tournament()\n",
    "    stats_wcup.append(winner)"
   ]
  },
  {
   "cell_type": "markdown",
   "id": "f8add6b1",
   "metadata": {},
   "source": [
    "A seguir estão as estatísticas do vencedor:"
   ]
  },
  {
   "cell_type": "code",
   "execution_count": 401,
   "id": "f542dd88",
   "metadata": {
    "ExecuteTime": {
     "end_time": "2022-12-05T00:34:30.145940Z",
     "start_time": "2022-12-05T00:34:30.119942Z"
    }
   },
   "outputs": [
    {
     "ename": "ImportError",
     "evalue": "matplotlib is required for plotting when the default backend \"matplotlib\" is selected.",
     "output_type": "error",
     "traceback": [
      "\u001b[1;31m---------------------------------------------------------------------------\u001b[0m",
      "\u001b[1;31mImportError\u001b[0m                               Traceback (most recent call last)",
      "Cell \u001b[1;32mIn [401], line 1\u001b[0m\n\u001b[1;32m----> 1\u001b[0m \u001b[43mpd\u001b[49m\u001b[38;5;241;43m.\u001b[39;49m\u001b[43mDataFrame\u001b[49m\u001b[43m(\u001b[49m\u001b[43mstats\u001b[49m\u001b[43m)\u001b[49m\u001b[43m[\u001b[49m\u001b[38;5;241;43m0\u001b[39;49m\u001b[43m]\u001b[49m\u001b[38;5;241;43m.\u001b[39;49m\u001b[43mvalue_counts\u001b[49m\u001b[43m(\u001b[49m\u001b[43m)\u001b[49m\u001b[38;5;241;43m.\u001b[39;49m\u001b[43mplot\u001b[49m\u001b[43m(\u001b[49m\u001b[43mkind\u001b[49m\u001b[38;5;241;43m=\u001b[39;49m\u001b[38;5;124;43m\"\u001b[39;49m\u001b[38;5;124;43mbar\u001b[39;49m\u001b[38;5;124;43m\"\u001b[39;49m\u001b[43m)\u001b[49m\n",
      "File \u001b[1;32m~\\AppData\\Roaming\\Python\\Python39\\site-packages\\pandas\\plotting\\_core.py:892\u001b[0m, in \u001b[0;36m__call__\u001b[1;34m(self, *args, **kwargs)\u001b[0m\n",
      "File \u001b[1;32m~\\AppData\\Roaming\\Python\\Python39\\site-packages\\pandas\\plotting\\_core.py:1849\u001b[0m, in \u001b[0;36m_get_plot_backend\u001b[1;34m(backend)\u001b[0m\n",
      "File \u001b[1;32m~\\AppData\\Roaming\\Python\\Python39\\site-packages\\pandas\\plotting\\_core.py:1787\u001b[0m, in \u001b[0;36m_load_backend\u001b[1;34m(backend)\u001b[0m\n",
      "\u001b[1;31mImportError\u001b[0m: matplotlib is required for plotting when the default backend \"matplotlib\" is selected."
     ]
    }
   ],
   "source": [
    "pd.DataFrame(stats)[0].value_counts().plot(kind=\"bar\");"
   ]
  },
  {
   "cell_type": "code",
   "execution_count": 416,
   "id": "826b2069",
   "metadata": {
    "ExecuteTime": {
     "end_time": "2022-12-05T00:43:09.458145Z",
     "start_time": "2022-12-05T00:43:09.442109Z"
    }
   },
   "outputs": [
    {
     "data": {
      "text/html": [
       "<div>\n",
       "<style scoped>\n",
       "    .dataframe tbody tr th:only-of-type {\n",
       "        vertical-align: middle;\n",
       "    }\n",
       "\n",
       "    .dataframe tbody tr th {\n",
       "        vertical-align: top;\n",
       "    }\n",
       "\n",
       "    .dataframe thead th {\n",
       "        text-align: right;\n",
       "    }\n",
       "</style>\n",
       "<table border=\"1\" class=\"dataframe\">\n",
       "  <thead>\n",
       "    <tr style=\"text-align: right;\">\n",
       "      <th></th>\n",
       "      <th>pais</th>\n",
       "      <th>vitorias</th>\n",
       "    </tr>\n",
       "  </thead>\n",
       "  <tbody>\n",
       "    <tr>\n",
       "      <th>0</th>\n",
       "      <td>Spain</td>\n",
       "      <td>42</td>\n",
       "    </tr>\n",
       "    <tr>\n",
       "      <th>1</th>\n",
       "      <td>Netherlands</td>\n",
       "      <td>14</td>\n",
       "    </tr>\n",
       "    <tr>\n",
       "      <th>2</th>\n",
       "      <td>Croatia</td>\n",
       "      <td>9</td>\n",
       "    </tr>\n",
       "    <tr>\n",
       "      <th>3</th>\n",
       "      <td>Germany</td>\n",
       "      <td>9</td>\n",
       "    </tr>\n",
       "    <tr>\n",
       "      <th>4</th>\n",
       "      <td>England</td>\n",
       "      <td>8</td>\n",
       "    </tr>\n",
       "    <tr>\n",
       "      <th>5</th>\n",
       "      <td>Belgium</td>\n",
       "      <td>7</td>\n",
       "    </tr>\n",
       "    <tr>\n",
       "      <th>6</th>\n",
       "      <td>Senegal</td>\n",
       "      <td>5</td>\n",
       "    </tr>\n",
       "    <tr>\n",
       "      <th>7</th>\n",
       "      <td>USA</td>\n",
       "      <td>5</td>\n",
       "    </tr>\n",
       "    <tr>\n",
       "      <th>8</th>\n",
       "      <td>Costa Rica</td>\n",
       "      <td>1</td>\n",
       "    </tr>\n",
       "  </tbody>\n",
       "</table>\n",
       "</div>"
      ],
      "text/plain": [
       "          pais  vitorias\n",
       "0        Spain        42\n",
       "1  Netherlands        14\n",
       "2      Croatia         9\n",
       "3      Germany         9\n",
       "4      England         8\n",
       "5      Belgium         7\n",
       "6      Senegal         5\n",
       "7          USA         5\n",
       "8   Costa Rica         1"
      ]
     },
     "execution_count": 416,
     "metadata": {},
     "output_type": "execute_result"
    }
   ],
   "source": [
    "_ = pd.DataFrame(stats)[0].value_counts().reset_index()\n",
    "_.columns = ['pais', 'vitorias']\n",
    "_\n"
   ]
  },
  {
   "cell_type": "markdown",
   "id": "2120958e",
   "metadata": {},
   "source": [
    "Alguns deles são surpreendentes (Senegal, Costa Rica, Equador…, Brasil e Argentina não incluídos), alguns deles são bastante confiáveis ​​(Espanha, Alemanha, Inglaterra)\n",
    "\n",
    "Podemos alterar ligeiramente a função para determinar o vencedor e o vice-campeão."
   ]
  },
  {
   "cell_type": "code",
   "execution_count": 384,
   "id": "cd063362",
   "metadata": {
    "ExecuteTime": {
     "end_time": "2022-12-05T00:29:45.085769Z",
     "start_time": "2022-12-05T00:29:45.071741Z"
    },
    "code_folding": [
     0
    ]
   },
   "outputs": [],
   "source": [
    "def whole_tournament():\n",
    "    group_stage = run_groups()\n",
    "    first_selection = find_qualification_stage(group_stage)\n",
    "    quarter_finals = elimination_stage(first_selection)\n",
    "    semi_finals = elimination_stage(quarter_finals,k=0)\n",
    "    _,stats = select_match_statistics(semi_finals[0],semi_finals[1])\n",
    "    winner = np.random.choice(list(stats.keys()),p=list(stats.values())) \n",
    "    if winner=='Draw':\n",
    "        winner = np.random.choice([semi_finals[0],semi_finals[1]],p=[0.5,0.5])\n",
    "    second = [s for s in semi_finals if s!=winner]\n",
    "    return winner,second[0]"
   ]
  },
  {
   "cell_type": "code",
   "execution_count": 385,
   "id": "eebe8a9a",
   "metadata": {
    "ExecuteTime": {
     "end_time": "2022-12-05T00:29:45.413762Z",
     "start_time": "2022-12-05T00:29:45.406759Z"
    }
   },
   "outputs": [],
   "source": [
    "stats = np.array(stats)"
   ]
  },
  {
   "cell_type": "code",
   "execution_count": 386,
   "id": "ce0b2304",
   "metadata": {
    "ExecuteTime": {
     "end_time": "2022-12-05T00:29:46.726235Z",
     "start_time": "2022-12-05T00:29:46.518272Z"
    }
   },
   "outputs": [
    {
     "ename": "IndexError",
     "evalue": "too many indices for array: array is 0-dimensional, but 2 were indexed",
     "output_type": "error",
     "traceback": [
      "\u001b[1;31m---------------------------------------------------------------------------\u001b[0m",
      "\u001b[1;31mIndexError\u001b[0m                                Traceback (most recent call last)",
      "Cell \u001b[1;32mIn [386], line 3\u001b[0m\n\u001b[0;32m      1\u001b[0m plt\u001b[38;5;241m.\u001b[39mfigure(figsize\u001b[38;5;241m=\u001b[39m(\u001b[38;5;241m15\u001b[39m,\u001b[38;5;241m7\u001b[39m))\n\u001b[0;32m      2\u001b[0m plt\u001b[38;5;241m.\u001b[39mtitle(\u001b[38;5;124m'\u001b[39m\u001b[38;5;124mEstatísticas do vencedor\u001b[39m\u001b[38;5;124m'\u001b[39m,fontsize\u001b[38;5;241m=\u001b[39m\u001b[38;5;241m20\u001b[39m)\n\u001b[1;32m----> 3\u001b[0m pd\u001b[38;5;241m.\u001b[39mDataFrame(\u001b[43mstats\u001b[49m\u001b[43m[\u001b[49m\u001b[43m:\u001b[49m\u001b[43m,\u001b[49m\u001b[38;5;241;43m0\u001b[39;49m\u001b[43m]\u001b[49m)[\u001b[38;5;241m0\u001b[39m]\u001b[38;5;241m.\u001b[39mvalue_counts()\u001b[38;5;241m.\u001b[39mplot(kind\u001b[38;5;241m=\u001b[39m\u001b[38;5;124m\"\u001b[39m\u001b[38;5;124mbar\u001b[39m\u001b[38;5;124m\"\u001b[39m)\n",
      "\u001b[1;31mIndexError\u001b[0m: too many indices for array: array is 0-dimensional, but 2 were indexed"
     ]
    },
    {
     "data": {
      "image/png": "[encoded data removed]",
      "text/plain": [
       "<Figure size 1500x700 with 1 Axes>"
      ]
     },
     "metadata": {},
     "output_type": "display_data"
    }
   ],
   "source": [
    "plt.figure(figsize=(15,7))\n",
    "plt.title('Estatísticas do vencedor',fontsize=20)\n",
    "pd.DataFrame(stats[:,0])[0].value_counts().plot(kind=\"bar\");"
   ]
  },
  {
   "cell_type": "code",
   "execution_count": 387,
   "id": "acf67cec",
   "metadata": {
    "ExecuteTime": {
     "end_time": "2022-12-05T00:29:52.893762Z",
     "start_time": "2022-12-05T00:29:52.623343Z"
    }
   },
   "outputs": [
    {
     "ename": "IndexError",
     "evalue": "too many indices for array: array is 0-dimensional, but 2 were indexed",
     "output_type": "error",
     "traceback": [
      "\u001b[1;31m---------------------------------------------------------------------------\u001b[0m",
      "\u001b[1;31mIndexError\u001b[0m                                Traceback (most recent call last)",
      "Cell \u001b[1;32mIn [387], line 3\u001b[0m\n\u001b[0;32m      1\u001b[0m plt\u001b[38;5;241m.\u001b[39mfigure(figsize\u001b[38;5;241m=\u001b[39m(\u001b[38;5;241m15\u001b[39m,\u001b[38;5;241m7\u001b[39m))\n\u001b[0;32m      2\u001b[0m plt\u001b[38;5;241m.\u001b[39mtitle(\u001b[38;5;124m'\u001b[39m\u001b[38;5;124mEstatísticas da segunda equipe\u001b[39m\u001b[38;5;124m'\u001b[39m,fontsize\u001b[38;5;241m=\u001b[39m\u001b[38;5;241m20\u001b[39m)\n\u001b[1;32m----> 3\u001b[0m pd\u001b[38;5;241m.\u001b[39mDataFrame(\u001b[43mstats\u001b[49m\u001b[43m[\u001b[49m\u001b[43m:\u001b[49m\u001b[43m,\u001b[49m\u001b[38;5;241;43m1\u001b[39;49m\u001b[43m]\u001b[49m)[\u001b[38;5;241m0\u001b[39m]\u001b[38;5;241m.\u001b[39mvalue_counts()\u001b[38;5;241m.\u001b[39mplot(kind\u001b[38;5;241m=\u001b[39m\u001b[38;5;124m\"\u001b[39m\u001b[38;5;124mbar\u001b[39m\u001b[38;5;124m\"\u001b[39m)\n",
      "\u001b[1;31mIndexError\u001b[0m: too many indices for array: array is 0-dimensional, but 2 were indexed"
     ]
    },
    {
     "data": {
      "image/png": "[encoded data removed]",
      "text/plain": [
       "<Figure size 1500x700 with 1 Axes>"
      ]
     },
     "metadata": {},
     "output_type": "display_data"
    }
   ],
   "source": [
    "plt.figure(figsize=(15,7))\n",
    "plt.title('Estatísticas da segunda equipe',fontsize=20)\n",
    "pd.DataFrame(stats[:,1])[0].value_counts().plot(kind=\"bar\");"
   ]
  },
  {
   "cell_type": "markdown",
   "id": "cb12b9c1",
   "metadata": {},
   "source": [
    "Isso é realmente muito emocionante e podemos concluir muitas coisas. A Holanda, por exemplo, joga muito nas finais, assim como a Inglaterra. No entanto, a Espanha tem muito mais vitórias em finais do que qualquer uma das seleções. Podemos continuar analisando. O Irã, por exemplo, chegou à final (pelo menos uma vez), mas nunca venceu."
   ]
  },
  {
   "cell_type": "markdown",
   "id": "4898d5db",
   "metadata": {},
   "source": [
    "## 4. Considerações\n",
    "Simulamos o próximo vencedor da Copa do Mundo. Na verdade, simulamos todo o torneio e extraímos o vencedor e o segundo time.\n",
    "\n",
    "Fizemos isso fazendo o seguinte:\n",
    "\n",
    "- Extraindo as estatísticas das equipes\n",
    "- Construindo um sistema de pontuação para as equipes com menos ou nenhum registro de jogar uma contra a outra\n",
    "- Construindo o algoritmo de seleções dos grupos e fase eliminatória\n",
    "- Execute a simulação várias vezes.\n",
    "- Extraia os resultados .\n",
    "\n",
    "Há muito espaço para melhorias. Por exemplo, podemos considerar a qualidade real das equipes, considerando seus jogadores, seu treinador e sua forma. Enquanto isso, vamos curtir um bom futebol."
   ]
  }
 ],
 "metadata": {
  "hide_input": false,
  "kernelspec": {
   "display_name": "Python 3 (ipykernel)",
   "language": "python",
   "name": "python3"
  },
  "language_info": {
   "codemirror_mode": {
    "name": "ipython",
    "version": 3
   },
   "file_extension": ".py",
   "mimetype": "text/x-python",
   "name": "python",
   "nbconvert_exporter": "python",
   "pygments_lexer": "ipython3",
   "version": "3.9.15"
  },
  "nbTranslate": {
   "displayLangs": [
    "en"
   ],
   "hotkey": "alt-t",
   "langInMainMenu": true,
   "sourceLang": "en",
   "targetLang": "fr",
   "useGoogleTranslate": true
  },
  "toc": {
   "base_numbering": 1,
   "nav_menu": {},
   "number_sections": false,
   "sideBar": true,
   "skip_h1_title": false,
   "title_cell": "Table of Contents",
   "title_sidebar": "Contents",
   "toc_cell": false,
   "toc_position": {},
   "toc_section_display": true,
   "toc_window_display": false
  },
  "varInspector": {
   "cols": {
    "lenName": 16,
    "lenType": 16,
    "lenVar": 40
   },
   "kernels_config": {
    "python": {
     "delete_cmd_postfix": "",
     "delete_cmd_prefix": "del ",
     "library": "var_list.py",
     "varRefreshCmd": "print(var_dic_list())"
    },
    "r": {
     "delete_cmd_postfix": ") ",
     "delete_cmd_prefix": "rm(",
     "library": "var_list.r",
     "varRefreshCmd": "cat(var_dic_list()) "
    }
   },
   "types_to_exclude": [
    "module",
    "function",
    "builtin_function_or_method",
    "instance",
    "_Feature"
   ],
   "window_display": false
  }
 },
 "nbformat": 4,
 "nbformat_minor": 5
}
