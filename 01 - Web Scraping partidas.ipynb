{
 "cells": [
  {
   "cell_type": "markdown",
   "id": "59fcab0d",
   "metadata": {
    "ExecuteTime": {
     "end_time": "2022-12-02T19:43:56.360409Z",
     "start_time": "2022-12-02T19:43:56.355410Z"
    }
   },
   "source": [
    "# Web Scraping partidas das copas do mundo \n",
    "\n",
    "A Copa do Mundo de 2022 está chegando e que melhor maneira de aprender ciência de dados e Python do que resolver um projeto do mundo real?\n",
    "\n",
    "Mas não podemos iniciar um projeto sem dados, então, neste guia, usaremos Python e Beautiful Soup para extrair dados de todas as copas do mundo disputadas até agora (1930–2018) e da Copa do Mundo de 2022.\n",
    "\n",
    "\n",
    "Neste projeto, usaremos bs4 para extrair dados do site, lxml para analisar documentos HTML e requests para enviar solicitações ao site de destino.\n",
    "\n",
    "Aqui está o comando que você precisa executar no terminal para instalar essas bibliotecas: \n",
    "\n",
    "- pip install bs4 \n",
    "- pip install lxml \n",
    "- pip install request\n",
    "\n"
   ]
  },
  {
   "cell_type": "markdown",
   "id": "f06c4693",
   "metadata": {},
   "source": [
    "# 1.  Importações"
   ]
  },
  {
   "cell_type": "code",
   "execution_count": 23,
   "id": "a20eb3a7",
   "metadata": {
    "ExecuteTime": {
     "end_time": "2022-12-02T19:56:31.530466Z",
     "start_time": "2022-12-02T19:56:31.513819Z"
    }
   },
   "outputs": [],
   "source": [
    "import requests"
   ]
  },
  {
   "cell_type": "code",
   "execution_count": 24,
   "id": "d313225a",
   "metadata": {
    "ExecuteTime": {
     "end_time": "2022-12-02T19:56:31.732066Z",
     "start_time": "2022-12-02T19:56:31.690523Z"
    }
   },
   "outputs": [],
   "source": [
    "import pandas as pd\n",
    "import numpy  as np"
   ]
  },
  {
   "cell_type": "code",
   "execution_count": 25,
   "id": "294324db",
   "metadata": {
    "ExecuteTime": {
     "end_time": "2022-12-02T19:56:31.888174Z",
     "start_time": "2022-12-02T19:56:31.865825Z"
    }
   },
   "outputs": [],
   "source": [
    "from bs4 import BeautifulSoup"
   ]
  },
  {
   "cell_type": "markdown",
   "id": "069f92e1",
   "metadata": {},
   "source": [
    "# 2. Coletar dados  (Parte 1) \n",
    "\n",
    "Vamos coletar dados de todas as copas do mundo jogadas até agora, vamos começar coletando dados de uma copa do mundo — Brasil 2014. Na parte 2, usaremos o código escrito na parte 1 para extrair dados de todas as copas do mundo.\n"
   ]
  },
  {
   "cell_type": "code",
   "execution_count": 27,
   "id": "38b622aa",
   "metadata": {
    "ExecuteTime": {
     "end_time": "2022-12-02T20:00:50.147903Z",
     "start_time": "2022-12-02T20:00:48.675990Z"
    }
   },
   "outputs": [],
   "source": [
    "web      = 'https://en.wikipedia.org/wiki/2014_FIFA_World_Cup'\n",
    "response = requests.get(web) \n",
    "content  = response.text \n",
    "soup     = BeautifulSoup(content, 'lxml' )"
   ]
  },
  {
   "cell_type": "markdown",
   "id": "ded8bcde",
   "metadata": {},
   "source": [
    "## Extraindo todas as partidas da Copa do Mundo\n",
    "Agora é hora de extrair as partidas de futebol na web. Para isso, temos que identificar um padrão que nos permita extrair não apenas uma, mas todas as partidas da competição.\n",
    "\n",
    "Para encontrar facilmente um padrão, primeiro temos que inspecionar o site clicando com o botão direito do mouse e selecionando “Inspecionar”. Depois disso, as ferramentas do desenvolvedor aparecerão. "
   ]
  },
  {
   "cell_type": "markdown",
   "id": "2ee34040",
   "metadata": {
    "ExecuteTime": {
     "end_time": "2022-12-02T20:37:36.351757Z",
     "start_time": "2022-12-02T20:37:36.286402Z"
    }
   },
   "source": [
    "![](img/ws1.jpg)"
   ]
  },
  {
   "cell_type": "markdown",
   "id": "9bb76cb0",
   "metadata": {},
   "source": [
    "Como você pode ver, cada partida disputada está dentro de uma linha representada pelo nó HTML destacado em azul acima."
   ]
  },
  {
   "cell_type": "markdown",
   "id": "4ebc445b",
   "metadata": {},
   "source": [
    "![](img/ws-2.jpg)"
   ]
  },
  {
   "cell_type": "markdown",
   "id": "66647c4a",
   "metadata": {},
   "source": [
    "Agora, para extrair todas as correspondências com nosso soup, temos que usar o método .find_all. Este método precisa de 2 entradas: o nome da tag e o nome da classe."
   ]
  },
  {
   "cell_type": "code",
   "execution_count": 138,
   "id": "d7258937",
   "metadata": {
    "ExecuteTime": {
     "end_time": "2022-12-02T22:21:03.554251Z",
     "start_time": "2022-12-02T22:21:03.471454Z"
    }
   },
   "outputs": [],
   "source": [
    "grupo    = soup.find_all( 'div' , class_= 'sports-table-notes' )\n",
    "partidas = soup.find_all( 'div' , class_= 'footballbox' )"
   ]
  },
  {
   "cell_type": "code",
   "execution_count": 33,
   "id": "2b258250",
   "metadata": {
    "ExecuteTime": {
     "end_time": "2022-12-02T20:39:19.300343Z",
     "start_time": "2022-12-02T20:39:19.284344Z"
    }
   },
   "outputs": [
    {
     "data": {
      "text/plain": [
       "bs4.element.ResultSet"
      ]
     },
     "execution_count": 33,
     "metadata": {},
     "output_type": "execute_result"
    }
   ],
   "source": [
    "type(partidas)"
   ]
  },
  {
   "cell_type": "markdown",
   "id": "87468244",
   "metadata": {},
   "source": [
    "## Extraindo os dados de pontuação de cada partida\n",
    "Agora que temos todas as correspondências dentro de nossa lista, precisamos percorrê-la para extrair informações específicas.\n",
    "\n",
    "Neste caso, vamos extrair o time da casa/visitante e os dados de pontuação. Então vamos armazená-los dentro de listas vazias, para depois podermos colocá-los em uma tabela.\n",
    "\n",
    "Para obter os dados do time da casa, precisamos primeiro inspecioná-los, depois copiar o nome da tag e o nome da classe. O mesmo vale para o placar e time visitante."
   ]
  },
  {
   "cell_type": "markdown",
   "id": "afade2f8",
   "metadata": {},
   "source": [
    "![](img/ws-3.jpg)"
   ]
  },
  {
   "cell_type": "code",
   "execution_count": null,
   "id": "3be37fd3",
   "metadata": {},
   "outputs": [],
   "source": [
    "class=\"fleft\""
   ]
  },
  {
   "cell_type": "code",
   "execution_count": 134,
   "id": "fd9f2b71",
   "metadata": {
    "ExecuteTime": {
     "end_time": "2022-12-02T22:18:27.239930Z",
     "start_time": "2022-12-02T22:18:27.198897Z"
    }
   },
   "outputs": [],
   "source": [
    "group = []\n",
    "home  = []\n",
    "score = []\n",
    "away  = []\n",
    "date  = []\n",
    "place = []\n",
    "\n",
    "for partida in partidas:\n",
    "    home.append(partida.find('th', class_='fhome').get_text())\n",
    "    score.append(partida.find('th', class_='fscore').get_text())\n",
    "    away.append(partida.find('th', class_='faway').get_text())   \n",
    "    date.append(partida.find('div', class_='fleft').get_text())\n",
    "    place.append(partida.find('div', class_='fright').get_text())"
   ]
  },
  {
   "cell_type": "code",
   "execution_count": 141,
   "id": "ba167408",
   "metadata": {
    "ExecuteTime": {
     "end_time": "2022-12-02T22:25:11.162065Z",
     "start_time": "2022-12-02T22:25:11.144103Z"
    }
   },
   "outputs": [
    {
     "data": {
      "text/plain": [
       "['Brazil\\xa0',\n",
       " 'Mexico\\xa0',\n",
       " 'Brazil\\xa0',\n",
       " 'Cameroon\\xa0',\n",
       " 'Cameroon\\xa0',\n",
       " 'Croatia\\xa0',\n",
       " 'Spain\\xa0',\n",
       " 'Chile\\xa0',\n",
       " 'Australia\\xa0',\n",
       " 'Spain\\xa0']"
      ]
     },
     "execution_count": 141,
     "metadata": {},
     "output_type": "execute_result"
    }
   ],
   "source": [
    "home[:10]"
   ]
  },
  {
   "cell_type": "markdown",
   "id": "91becf7a",
   "metadata": {},
   "source": [
    "## Armazenando nossos dados em um dataframe e salvar em um arquivo CSV\n",
    "Criaremos um dataframe a partir das listas criadas acima, além disso, criaremos uma coluna chamada “year” que conterá o ano da copa do mundo (2014 para este caso específico)."
   ]
  },
  {
   "cell_type": "code",
   "execution_count": 142,
   "id": "1dd64274",
   "metadata": {
    "ExecuteTime": {
     "end_time": "2022-12-02T22:25:47.973336Z",
     "start_time": "2022-12-02T22:25:47.960324Z"
    }
   },
   "outputs": [],
   "source": [
    "score_home = []\n",
    "score_away = []\n",
    "\n",
    "for i, s in enumerate(score): \n",
    "    score_home.append(s[0]) \n",
    "    score_away.append(s[2])\n",
    "    \n",
    "\n",
    "dict_partidas = {'home'      : home, \n",
    "                 'score_home': score_home, \n",
    "                 'away'      : away, \n",
    "                 'score_away': score_away, \n",
    "                 'date'      : date, \n",
    "                 'place'     : place}\n",
    "\n",
    "\n",
    "df_partidas   = pd.DataFrame(dict_partidas)\n",
    "\n",
    "df_partidas['year'] = 2014"
   ]
  },
  {
   "cell_type": "code",
   "execution_count": 143,
   "id": "c2e296c9",
   "metadata": {
    "ExecuteTime": {
     "end_time": "2022-12-02T22:25:48.699757Z",
     "start_time": "2022-12-02T22:25:48.686666Z"
    }
   },
   "outputs": [
    {
     "data": {
      "text/html": [
       "<div>\n",
       "<style scoped>\n",
       "    .dataframe tbody tr th:only-of-type {\n",
       "        vertical-align: middle;\n",
       "    }\n",
       "\n",
       "    .dataframe tbody tr th {\n",
       "        vertical-align: top;\n",
       "    }\n",
       "\n",
       "    .dataframe thead th {\n",
       "        text-align: right;\n",
       "    }\n",
       "</style>\n",
       "<table border=\"1\" class=\"dataframe\">\n",
       "  <thead>\n",
       "    <tr style=\"text-align: right;\">\n",
       "      <th></th>\n",
       "      <th>home</th>\n",
       "      <th>score_home</th>\n",
       "      <th>away</th>\n",
       "      <th>score_away</th>\n",
       "      <th>date</th>\n",
       "      <th>place</th>\n",
       "      <th>year</th>\n",
       "    </tr>\n",
       "  </thead>\n",
       "  <tbody>\n",
       "    <tr>\n",
       "      <th>0</th>\n",
       "      <td>Brazil</td>\n",
       "      <td>3</td>\n",
       "      <td>Croatia</td>\n",
       "      <td>1</td>\n",
       "      <td>12 June 201417:00 BRT (UTC−3)</td>\n",
       "      <td>Arena de São Paulo, São PauloAttendance: 62,10...</td>\n",
       "      <td>2014</td>\n",
       "    </tr>\n",
       "    <tr>\n",
       "      <th>1</th>\n",
       "      <td>Mexico</td>\n",
       "      <td>1</td>\n",
       "      <td>Cameroon</td>\n",
       "      <td>0</td>\n",
       "      <td>13 June 201413:00 BRT (UTC−3)</td>\n",
       "      <td>Arena das Dunas, NatalAttendance: 39,216Refere...</td>\n",
       "      <td>2014</td>\n",
       "    </tr>\n",
       "    <tr>\n",
       "      <th>2</th>\n",
       "      <td>Brazil</td>\n",
       "      <td>0</td>\n",
       "      <td>Mexico</td>\n",
       "      <td>0</td>\n",
       "      <td>17 June 201416:00 BRT (UTC−3)</td>\n",
       "      <td>Estádio Castelão, FortalezaAttendance: 60,342R...</td>\n",
       "      <td>2014</td>\n",
       "    </tr>\n",
       "    <tr>\n",
       "      <th>3</th>\n",
       "      <td>Cameroon</td>\n",
       "      <td>0</td>\n",
       "      <td>Croatia</td>\n",
       "      <td>4</td>\n",
       "      <td>18 June 201418:00 AMT (UTC−4)</td>\n",
       "      <td>Arena da Amazônia, ManausAttendance: 39,982Ref...</td>\n",
       "      <td>2014</td>\n",
       "    </tr>\n",
       "    <tr>\n",
       "      <th>4</th>\n",
       "      <td>Cameroon</td>\n",
       "      <td>1</td>\n",
       "      <td>Brazil</td>\n",
       "      <td>4</td>\n",
       "      <td>23 June 201417:00 BRT (UTC−3)</td>\n",
       "      <td>Estádio Nacional Mané Garrincha, BrasíliaAtten...</td>\n",
       "      <td>2014</td>\n",
       "    </tr>\n",
       "  </tbody>\n",
       "</table>\n",
       "</div>"
      ],
      "text/plain": [
       "        home score_home       away score_away                           date  \\\n",
       "0    Brazil           3    Croatia          1  12 June 201417:00 BRT (UTC−3)   \n",
       "1    Mexico           1   Cameroon          0  13 June 201413:00 BRT (UTC−3)   \n",
       "2    Brazil           0     Mexico          0  17 June 201416:00 BRT (UTC−3)   \n",
       "3  Cameroon           0    Croatia          4  18 June 201418:00 AMT (UTC−4)   \n",
       "4  Cameroon           1     Brazil          4  23 June 201417:00 BRT (UTC−3)   \n",
       "\n",
       "                                               place  year  \n",
       "0  Arena de São Paulo, São PauloAttendance: 62,10...  2014  \n",
       "1  Arena das Dunas, NatalAttendance: 39,216Refere...  2014  \n",
       "2  Estádio Castelão, FortalezaAttendance: 60,342R...  2014  \n",
       "3  Arena da Amazônia, ManausAttendance: 39,982Ref...  2014  \n",
       "4  Estádio Nacional Mané Garrincha, BrasíliaAtten...  2014  "
      ]
     },
     "execution_count": 143,
     "metadata": {},
     "output_type": "execute_result"
    }
   ],
   "source": [
    "df_partidas.head()"
   ]
  },
  {
   "cell_type": "markdown",
   "id": "c68b9577",
   "metadata": {},
   "source": [
    "- Salvar o dadaset "
   ]
  },
  {
   "cell_type": "code",
   "execution_count": 144,
   "id": "50fd0e76",
   "metadata": {
    "ExecuteTime": {
     "end_time": "2022-12-02T22:25:58.742446Z",
     "start_time": "2022-12-02T22:25:58.727416Z"
    }
   },
   "outputs": [],
   "source": [
    "df_partidas.to_csv('Data/fifa_worldcup_historical_data.csv', index=False)"
   ]
  },
  {
   "cell_type": "markdown",
   "id": "bbe07931",
   "metadata": {
    "ExecuteTime": {
     "end_time": "2022-12-02T21:16:45.171727Z",
     "start_time": "2022-12-02T21:16:45.156728Z"
    }
   },
   "source": [
    "# 3. Coletando dados de TODAS as Copas do Mundo (Parte 2)\n",
    "\n",
    "Agora que sabemos como extrair as informações de uma copa do mundo, é hora de extrair todas as copas, primeiro precisamos encontrar um padrão nos links.\n",
    "\n",
    "Vamos dar uma olhada nos links das copas do mundo 2014, 2018 e 2022\n",
    "- https://en.wikipedia.org/wiki/2014_FIFA_World_Cup \n",
    "- https://en.wikipedia.org/wiki/2018_FIFA_World_Cup \n",
    "- https://en.wikipedia.org/wiki/2022_FIFA_World_Cup"
   ]
  },
  {
   "cell_type": "markdown",
   "id": "9d58b993",
   "metadata": {
    "ExecuteTime": {
     "end_time": "2022-12-02T21:15:28.181144Z",
     "start_time": "2022-12-02T21:15:28.172109Z"
    }
   },
   "source": [
    "Podemos notar um padrão nos links, são idênticos, exceto no ano em que ocorreu uma copa do mundo, sendo assim, podemos reescrever a varável web para considerar este padrão:"
   ]
  },
  {
   "cell_type": "code",
   "execution_count": 87,
   "id": "17f61931",
   "metadata": {
    "ExecuteTime": {
     "end_time": "2022-12-02T21:47:37.881828Z",
     "start_time": "2022-12-02T21:47:37.860794Z"
    }
   },
   "outputs": [
    {
     "name": "stdout",
     "output_type": "stream",
     "text": [
      "https://en.wikipedia.org/wiki/2022_FIFA_World_Cup\n"
     ]
    }
   ],
   "source": [
    "year = 2022\n",
    "web  = 'https://en.wikipedia.org/wiki/{}_FIFA_World_Cup'.format(year)\n",
    "print(web)"
   ]
  },
  {
   "cell_type": "markdown",
   "id": "192c743d",
   "metadata": {},
   "source": [
    "Agora vamos pegar todo o códificação e colocar em uma função que recebe uma entrada, neste caso será o ano. "
   ]
  },
  {
   "cell_type": "code",
   "execution_count": 132,
   "id": "8cb4cccb",
   "metadata": {
    "ExecuteTime": {
     "end_time": "2022-12-02T22:17:08.835425Z",
     "start_time": "2022-12-02T22:17:08.807426Z"
    }
   },
   "outputs": [],
   "source": [
    "def get_partidas(year_:int): \n",
    "    \n",
    "    web = 'https://en.wikipedia.org/wiki/{}_FIFA_World_Cup'.format(year_)\n",
    "    \n",
    "    home  = []\n",
    "    score = []\n",
    "    away  = []\n",
    "    date  = []\n",
    "    place = []\n",
    "\n",
    "    for partida in partidas:\n",
    "        home.append(partida.find('th', class_='fhome').get_text())\n",
    "        score.append(partida.find('th', class_='fscore').get_text())\n",
    "        away.append(partida.find('th', class_='faway').get_text())   \n",
    "        date.append(partida.find('div', class_='fleft').get_text())\n",
    "        place.append(partida.find('div', class_='fright').get_text())\n",
    "\n",
    "    \n",
    "    score_home = []\n",
    "    score_away = []\n",
    "\n",
    "    for i, s in enumerate(score): \n",
    "        score_home.append(s[0]) \n",
    "        score_away.append(s[2])\n",
    "\n",
    "    dict_partidas = {'home'      : home, \n",
    "                     'score_home': score_home, \n",
    "                     'away'      : away, \n",
    "                     'score_away': score_away, \n",
    "                     'date'      : date, \n",
    "                     'place'     : place}\n",
    "\n",
    "    _ = pd.DataFrame(dict_partidas)\n",
    "    _['year'] = year_\n",
    "        \n",
    "    return _"
   ]
  },
  {
   "cell_type": "code",
   "execution_count": null,
   "id": "0a320de3",
   "metadata": {},
   "outputs": [],
   "source": []
  },
  {
   "cell_type": "code",
   "execution_count": null,
   "id": "22242b67",
   "metadata": {},
   "outputs": [],
   "source": [
    "sports-table-notes"
   ]
  },
  {
   "cell_type": "code",
   "execution_count": 128,
   "id": "ada23092",
   "metadata": {
    "ExecuteTime": {
     "end_time": "2022-12-02T22:14:45.153708Z",
     "start_time": "2022-12-02T22:14:45.126280Z"
    }
   },
   "outputs": [],
   "source": [
    "df = get_partidas(2022)"
   ]
  },
  {
   "cell_type": "code",
   "execution_count": 129,
   "id": "c5db39cf",
   "metadata": {
    "ExecuteTime": {
     "end_time": "2022-12-02T22:14:46.312435Z",
     "start_time": "2022-12-02T22:14:45.840256Z"
    }
   },
   "outputs": [],
   "source": [
    "df_partidas_hist = pd.DataFrame()\n",
    "\n",
    "for year in range(1930, 2024, 4): \n",
    "    _ = get_partidas(year)\n",
    "    df_partidas_hist = pd.concat([df_partidas_hist, _], axis=0)"
   ]
  },
  {
   "cell_type": "code",
   "execution_count": 131,
   "id": "f8320dff",
   "metadata": {
    "ExecuteTime": {
     "end_time": "2022-12-02T22:14:58.097283Z",
     "start_time": "2022-12-02T22:14:58.078285Z"
    }
   },
   "outputs": [
    {
     "data": {
      "text/html": [
       "<div>\n",
       "<style scoped>\n",
       "    .dataframe tbody tr th:only-of-type {\n",
       "        vertical-align: middle;\n",
       "    }\n",
       "\n",
       "    .dataframe tbody tr th {\n",
       "        vertical-align: top;\n",
       "    }\n",
       "\n",
       "    .dataframe thead th {\n",
       "        text-align: right;\n",
       "    }\n",
       "</style>\n",
       "<table border=\"1\" class=\"dataframe\">\n",
       "  <thead>\n",
       "    <tr style=\"text-align: right;\">\n",
       "      <th></th>\n",
       "      <th>home</th>\n",
       "      <th>score_home</th>\n",
       "      <th>away</th>\n",
       "      <th>score_away</th>\n",
       "      <th>date</th>\n",
       "      <th>place</th>\n",
       "      <th>year</th>\n",
       "    </tr>\n",
       "  </thead>\n",
       "  <tbody>\n",
       "    <tr>\n",
       "      <th>0</th>\n",
       "      <td>Brazil</td>\n",
       "      <td>3</td>\n",
       "      <td>Croatia</td>\n",
       "      <td>1</td>\n",
       "      <td>12 June 201417:00 BRT (UTC−3)</td>\n",
       "      <td>Arena de São Paulo, São PauloAttendance: 62,10...</td>\n",
       "      <td>1930</td>\n",
       "    </tr>\n",
       "    <tr>\n",
       "      <th>1</th>\n",
       "      <td>Mexico</td>\n",
       "      <td>1</td>\n",
       "      <td>Cameroon</td>\n",
       "      <td>0</td>\n",
       "      <td>13 June 201413:00 BRT (UTC−3)</td>\n",
       "      <td>Arena das Dunas, NatalAttendance: 39,216Refere...</td>\n",
       "      <td>1930</td>\n",
       "    </tr>\n",
       "    <tr>\n",
       "      <th>2</th>\n",
       "      <td>Brazil</td>\n",
       "      <td>0</td>\n",
       "      <td>Mexico</td>\n",
       "      <td>0</td>\n",
       "      <td>17 June 201416:00 BRT (UTC−3)</td>\n",
       "      <td>Estádio Castelão, FortalezaAttendance: 60,342R...</td>\n",
       "      <td>1930</td>\n",
       "    </tr>\n",
       "    <tr>\n",
       "      <th>3</th>\n",
       "      <td>Cameroon</td>\n",
       "      <td>0</td>\n",
       "      <td>Croatia</td>\n",
       "      <td>4</td>\n",
       "      <td>18 June 201418:00 AMT (UTC−4)</td>\n",
       "      <td>Arena da Amazônia, ManausAttendance: 39,982Ref...</td>\n",
       "      <td>1930</td>\n",
       "    </tr>\n",
       "    <tr>\n",
       "      <th>4</th>\n",
       "      <td>Cameroon</td>\n",
       "      <td>1</td>\n",
       "      <td>Brazil</td>\n",
       "      <td>4</td>\n",
       "      <td>23 June 201417:00 BRT (UTC−3)</td>\n",
       "      <td>Estádio Nacional Mané Garrincha, BrasíliaAtten...</td>\n",
       "      <td>1930</td>\n",
       "    </tr>\n",
       "  </tbody>\n",
       "</table>\n",
       "</div>"
      ],
      "text/plain": [
       "        home score_home       away score_away                           date  \\\n",
       "0    Brazil           3    Croatia          1  12 June 201417:00 BRT (UTC−3)   \n",
       "1    Mexico           1   Cameroon          0  13 June 201413:00 BRT (UTC−3)   \n",
       "2    Brazil           0     Mexico          0  17 June 201416:00 BRT (UTC−3)   \n",
       "3  Cameroon           0    Croatia          4  18 June 201418:00 AMT (UTC−4)   \n",
       "4  Cameroon           1     Brazil          4  23 June 201417:00 BRT (UTC−3)   \n",
       "\n",
       "                                               place  year  \n",
       "0  Arena de São Paulo, São PauloAttendance: 62,10...  1930  \n",
       "1  Arena das Dunas, NatalAttendance: 39,216Refere...  1930  \n",
       "2  Estádio Castelão, FortalezaAttendance: 60,342R...  1930  \n",
       "3  Arena da Amazônia, ManausAttendance: 39,982Ref...  1930  \n",
       "4  Estádio Nacional Mané Garrincha, BrasíliaAtten...  1930  "
      ]
     },
     "execution_count": 131,
     "metadata": {},
     "output_type": "execute_result"
    }
   ],
   "source": [
    "df_partidas_hist.head()"
   ]
  },
  {
   "cell_type": "code",
   "execution_count": 146,
   "id": "04af01c4",
   "metadata": {
    "ExecuteTime": {
     "end_time": "2022-12-02T22:28:32.887299Z",
     "start_time": "2022-12-02T22:28:32.855300Z"
    }
   },
   "outputs": [],
   "source": [
    "df_partidas_hist.to_csv('Data/fifa_worldcup_historical_data_hist.csv', index=False)"
   ]
  },
  {
   "cell_type": "code",
   "execution_count": 148,
   "id": "decb704a",
   "metadata": {
    "ExecuteTime": {
     "end_time": "2022-12-02T22:29:06.861534Z",
     "start_time": "2022-12-02T22:29:06.846534Z"
    }
   },
   "outputs": [
    {
     "name": "stdout",
     "output_type": "stream",
     "text": [
      "<class 'pandas.core.frame.DataFrame'>\n",
      "Int64Index: 1536 entries, 0 to 63\n",
      "Data columns (total 7 columns):\n",
      " #   Column      Non-Null Count  Dtype \n",
      "---  ------      --------------  ----- \n",
      " 0   home        1536 non-null   object\n",
      " 1   score_home  1536 non-null   object\n",
      " 2   away        1536 non-null   object\n",
      " 3   score_away  1536 non-null   object\n",
      " 4   date        1536 non-null   object\n",
      " 5   place       1536 non-null   object\n",
      " 6   year        1536 non-null   int64 \n",
      "dtypes: int64(1), object(6)\n",
      "memory usage: 96.0+ KB\n"
     ]
    }
   ],
   "source": [
    "df_partidas_hist.info()"
   ]
  }
 ],
 "metadata": {
  "hide_input": false,
  "kernelspec": {
   "display_name": "Python 3 (ipykernel)",
   "language": "python",
   "name": "python3"
  },
  "language_info": {
   "codemirror_mode": {
    "name": "ipython",
    "version": 3
   },
   "file_extension": ".py",
   "mimetype": "text/x-python",
   "name": "python",
   "nbconvert_exporter": "python",
   "pygments_lexer": "ipython3",
   "version": "3.9.15"
  },
  "nbTranslate": {
   "displayLangs": [
    "en"
   ],
   "hotkey": "alt-t",
   "langInMainMenu": true,
   "sourceLang": "en",
   "targetLang": "fr",
   "useGoogleTranslate": true
  },
  "toc": {
   "base_numbering": 1,
   "nav_menu": {},
   "number_sections": false,
   "sideBar": true,
   "skip_h1_title": false,
   "title_cell": "Table of Contents",
   "title_sidebar": "Contents",
   "toc_cell": false,
   "toc_position": {
    "height": "calc(100% - 180px)",
    "left": "10px",
    "top": "150px",
    "width": "426.667px"
   },
   "toc_section_display": true,
   "toc_window_display": true
  },
  "varInspector": {
   "cols": {
    "lenName": 16,
    "lenType": 16,
    "lenVar": 40
   },
   "kernels_config": {
    "python": {
     "delete_cmd_postfix": "",
     "delete_cmd_prefix": "del ",
     "library": "var_list.py",
     "varRefreshCmd": "print(var_dic_list())"
    },
    "r": {
     "delete_cmd_postfix": ") ",
     "delete_cmd_prefix": "rm(",
     "library": "var_list.r",
     "varRefreshCmd": "cat(var_dic_list()) "
    }
   },
   "types_to_exclude": [
    "module",
    "function",
    "builtin_function_or_method",
    "instance",
    "_Feature"
   ],
   "window_display": false
  }
 },
 "nbformat": 4,
 "nbformat_minor": 5
}
